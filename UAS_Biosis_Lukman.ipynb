{
  "cells": [
    {
      "cell_type": "markdown",
      "metadata": {
        "id": "view-in-github",
        "colab_type": "text"
      },
      "source": [
        "<a href=\"https://colab.research.google.com/github/oluke/nucleotide-identifier/blob/main/UAS_Biosis_Lukman.ipynb\" target=\"_parent\"><img src=\"https://colab.research.google.com/assets/colab-badge.svg\" alt=\"Open In Colab\"/></a>"
      ]
    },
    {
      "cell_type": "markdown",
      "source": [
        "**Anggota Kelompok: Lukman, Tiara Dinda Hapsari, Abdul Malik dan Ester Frescilla Simbolon.**\n",
        "\n",
        "**Kelas: 3A - SIK**\n",
        "\n",
        "**Universitas: Universitas Pendidikan Indonesia**\n",
        "\n",
        "**Dosen Pengampu: Ishak Ariawan, S.Pd., M.Kom.**"
      ],
      "metadata": {
        "id": "AnSQ66dX8hfb"
      }
    },
    {
      "cell_type": "markdown",
      "metadata": {
        "id": "oIlvXCy1XZ5T"
      },
      "source": [
        "## DNA Sequence Mengguakan Machine Learning\n",
        "\n",
        "Dalam buku notebook ini, kami akan menerapkan model klasifikasi yang dapat memprediksi fungsi gen berdasarkan urutan DNA. Data DNA diperoleh dari laman [NCBI](https://ncbi.nlm.nih.gov/)"
      ]
    },
    {
      "cell_type": "code",
      "execution_count": null,
      "metadata": {
        "id": "aSghSAC2XZ5d"
      },
      "outputs": [],
      "source": [
        "#import semua library dibutuhkan\n",
        "\n",
        "import numpy as np\n",
        "import pandas as pd\n",
        "import matplotlib.pyplot as plt\n",
        "%matplotlib inline  "
      ]
    },
    {
      "cell_type": "markdown",
      "source": [
        "### Import data-data yang akan diklasifikasikan\n",
        "Dalam penelitian ini ada tiga kelas mamalia laut berdasarkan jenis spesies yang akan diklasifikasikan, yaitu:\n",
        "1. Delphinus capensis \n",
        "2. Dugong dugon \n",
        "3. Orcaella brevirostris "
      ],
      "metadata": {
        "id": "ytZK3tzkNeoJ"
      }
    },
    {
      "cell_type": "code",
      "execution_count": null,
      "metadata": {
        "colab": {
          "base_uri": "https://localhost:8080/",
          "height": 206
        },
        "id": "Tg1AR-2pXZ5f",
        "outputId": "204920a8-ea23-4dc6-86f2-8c7b1eadc3f6"
      },
      "outputs": [
        {
          "output_type": "execute_result",
          "data": {
            "text/plain": [
              "                                            sequence  class\n",
              "0  TCAAGGAAGAGACATTAAACCTCACCACCAACACCCAAAGCTGGAA...      1\n",
              "1  TCAAGGAAGAGACATTAAACCTCACCACCAACACCCAAAGCTGGAA...      1\n",
              "2  GGTTCAGGAATTACACGGTTTATAGAGGGATCAGGGTTACAGGTTC...      1\n",
              "3  ATGCTGTCCTGCAAGGCCGTGGCCTTTCTGCTGGTGGTGCATGCAG...      1\n",
              "4  ATGGGCAGCGCCGAGAACCGCAGCGACGGCTCGGAGGACGCGGGGG...      1"
            ],
            "text/html": [
              "\n",
              "  <div id=\"df-aa839b84-d0bb-4062-8239-6287b6d0135b\">\n",
              "    <div class=\"colab-df-container\">\n",
              "      <div>\n",
              "<style scoped>\n",
              "    .dataframe tbody tr th:only-of-type {\n",
              "        vertical-align: middle;\n",
              "    }\n",
              "\n",
              "    .dataframe tbody tr th {\n",
              "        vertical-align: top;\n",
              "    }\n",
              "\n",
              "    .dataframe thead th {\n",
              "        text-align: right;\n",
              "    }\n",
              "</style>\n",
              "<table border=\"1\" class=\"dataframe\">\n",
              "  <thead>\n",
              "    <tr style=\"text-align: right;\">\n",
              "      <th></th>\n",
              "      <th>sequence</th>\n",
              "      <th>class</th>\n",
              "    </tr>\n",
              "  </thead>\n",
              "  <tbody>\n",
              "    <tr>\n",
              "      <th>0</th>\n",
              "      <td>TCAAGGAAGAGACATTAAACCTCACCACCAACACCCAAAGCTGGAA...</td>\n",
              "      <td>1</td>\n",
              "    </tr>\n",
              "    <tr>\n",
              "      <th>1</th>\n",
              "      <td>TCAAGGAAGAGACATTAAACCTCACCACCAACACCCAAAGCTGGAA...</td>\n",
              "      <td>1</td>\n",
              "    </tr>\n",
              "    <tr>\n",
              "      <th>2</th>\n",
              "      <td>GGTTCAGGAATTACACGGTTTATAGAGGGATCAGGGTTACAGGTTC...</td>\n",
              "      <td>1</td>\n",
              "    </tr>\n",
              "    <tr>\n",
              "      <th>3</th>\n",
              "      <td>ATGCTGTCCTGCAAGGCCGTGGCCTTTCTGCTGGTGGTGCATGCAG...</td>\n",
              "      <td>1</td>\n",
              "    </tr>\n",
              "    <tr>\n",
              "      <th>4</th>\n",
              "      <td>ATGGGCAGCGCCGAGAACCGCAGCGACGGCTCGGAGGACGCGGGGG...</td>\n",
              "      <td>1</td>\n",
              "    </tr>\n",
              "  </tbody>\n",
              "</table>\n",
              "</div>\n",
              "      <button class=\"colab-df-convert\" onclick=\"convertToInteractive('df-aa839b84-d0bb-4062-8239-6287b6d0135b')\"\n",
              "              title=\"Convert this dataframe to an interactive table.\"\n",
              "              style=\"display:none;\">\n",
              "        \n",
              "  <svg xmlns=\"http://www.w3.org/2000/svg\" height=\"24px\"viewBox=\"0 0 24 24\"\n",
              "       width=\"24px\">\n",
              "    <path d=\"M0 0h24v24H0V0z\" fill=\"none\"/>\n",
              "    <path d=\"M18.56 5.44l.94 2.06.94-2.06 2.06-.94-2.06-.94-.94-2.06-.94 2.06-2.06.94zm-11 1L8.5 8.5l.94-2.06 2.06-.94-2.06-.94L8.5 2.5l-.94 2.06-2.06.94zm10 10l.94 2.06.94-2.06 2.06-.94-2.06-.94-.94-2.06-.94 2.06-2.06.94z\"/><path d=\"M17.41 7.96l-1.37-1.37c-.4-.4-.92-.59-1.43-.59-.52 0-1.04.2-1.43.59L10.3 9.45l-7.72 7.72c-.78.78-.78 2.05 0 2.83L4 21.41c.39.39.9.59 1.41.59.51 0 1.02-.2 1.41-.59l7.78-7.78 2.81-2.81c.8-.78.8-2.07 0-2.86zM5.41 20L4 18.59l7.72-7.72 1.47 1.35L5.41 20z\"/>\n",
              "  </svg>\n",
              "      </button>\n",
              "      \n",
              "  <style>\n",
              "    .colab-df-container {\n",
              "      display:flex;\n",
              "      flex-wrap:wrap;\n",
              "      gap: 12px;\n",
              "    }\n",
              "\n",
              "    .colab-df-convert {\n",
              "      background-color: #E8F0FE;\n",
              "      border: none;\n",
              "      border-radius: 50%;\n",
              "      cursor: pointer;\n",
              "      display: none;\n",
              "      fill: #1967D2;\n",
              "      height: 32px;\n",
              "      padding: 0 0 0 0;\n",
              "      width: 32px;\n",
              "    }\n",
              "\n",
              "    .colab-df-convert:hover {\n",
              "      background-color: #E2EBFA;\n",
              "      box-shadow: 0px 1px 2px rgba(60, 64, 67, 0.3), 0px 1px 3px 1px rgba(60, 64, 67, 0.15);\n",
              "      fill: #174EA6;\n",
              "    }\n",
              "\n",
              "    [theme=dark] .colab-df-convert {\n",
              "      background-color: #3B4455;\n",
              "      fill: #D2E3FC;\n",
              "    }\n",
              "\n",
              "    [theme=dark] .colab-df-convert:hover {\n",
              "      background-color: #434B5C;\n",
              "      box-shadow: 0px 1px 3px 1px rgba(0, 0, 0, 0.15);\n",
              "      filter: drop-shadow(0px 1px 2px rgba(0, 0, 0, 0.3));\n",
              "      fill: #FFFFFF;\n",
              "    }\n",
              "  </style>\n",
              "\n",
              "      <script>\n",
              "        const buttonEl =\n",
              "          document.querySelector('#df-aa839b84-d0bb-4062-8239-6287b6d0135b button.colab-df-convert');\n",
              "        buttonEl.style.display =\n",
              "          google.colab.kernel.accessAllowed ? 'block' : 'none';\n",
              "\n",
              "        async function convertToInteractive(key) {\n",
              "          const element = document.querySelector('#df-aa839b84-d0bb-4062-8239-6287b6d0135b');\n",
              "          const dataTable =\n",
              "            await google.colab.kernel.invokeFunction('convertToInteractive',\n",
              "                                                     [key], {});\n",
              "          if (!dataTable) return;\n",
              "\n",
              "          const docLinkHtml = 'Like what you see? Visit the ' +\n",
              "            '<a target=\"_blank\" href=https://colab.research.google.com/notebooks/data_table.ipynb>data table notebook</a>'\n",
              "            + ' to learn more about interactive tables.';\n",
              "          element.innerHTML = '';\n",
              "          dataTable['output_type'] = 'display_data';\n",
              "          await google.colab.output.renderOutput(dataTable, element);\n",
              "          const docLink = document.createElement('div');\n",
              "          docLink.innerHTML = docLinkHtml;\n",
              "          element.appendChild(docLink);\n",
              "        }\n",
              "      </script>\n",
              "    </div>\n",
              "  </div>\n",
              "  "
            ]
          },
          "metadata": {},
          "execution_count": 2
        }
      ],
      "source": [
        "capensis = pd.read_table('/content/dna1.txt')\n",
        "capensis.head()"
      ]
    },
    {
      "cell_type": "code",
      "execution_count": null,
      "metadata": {
        "colab": {
          "base_uri": "https://localhost:8080/",
          "height": 206
        },
        "id": "OwdLLJByXZ5h",
        "outputId": "a4191c42-0bbb-4464-c082-e1a74b099d5e"
      },
      "outputs": [
        {
          "output_type": "execute_result",
          "data": {
            "text/plain": [
              "                                            sequence  class\n",
              "0  TAGTGGAAATAAACAAATCTCTAAGGACCTAATGAGTGCTACCTAC...      2\n",
              "1  ATGTAAGGTTTCAAATGGAGTCCCATGTTGACTTAAATTCACATGG...      2\n",
              "2  AACATTTTTATTACTAAATAAAAAAAGATTCTTTCTTCATAGCTTA...      2\n",
              "3  CAACATACTGAGTACCTGCTGTGTGACTGGAAACCCTGGTGGCATA...      2\n",
              "4  GGCTATCTACCCCTATGAAAGATTTTAAGTCTCTGAAGACTAATGA...      2"
            ],
            "text/html": [
              "\n",
              "  <div id=\"df-a9b2de98-5cb9-40cc-8fb7-100af029e2ac\">\n",
              "    <div class=\"colab-df-container\">\n",
              "      <div>\n",
              "<style scoped>\n",
              "    .dataframe tbody tr th:only-of-type {\n",
              "        vertical-align: middle;\n",
              "    }\n",
              "\n",
              "    .dataframe tbody tr th {\n",
              "        vertical-align: top;\n",
              "    }\n",
              "\n",
              "    .dataframe thead th {\n",
              "        text-align: right;\n",
              "    }\n",
              "</style>\n",
              "<table border=\"1\" class=\"dataframe\">\n",
              "  <thead>\n",
              "    <tr style=\"text-align: right;\">\n",
              "      <th></th>\n",
              "      <th>sequence</th>\n",
              "      <th>class</th>\n",
              "    </tr>\n",
              "  </thead>\n",
              "  <tbody>\n",
              "    <tr>\n",
              "      <th>0</th>\n",
              "      <td>TAGTGGAAATAAACAAATCTCTAAGGACCTAATGAGTGCTACCTAC...</td>\n",
              "      <td>2</td>\n",
              "    </tr>\n",
              "    <tr>\n",
              "      <th>1</th>\n",
              "      <td>ATGTAAGGTTTCAAATGGAGTCCCATGTTGACTTAAATTCACATGG...</td>\n",
              "      <td>2</td>\n",
              "    </tr>\n",
              "    <tr>\n",
              "      <th>2</th>\n",
              "      <td>AACATTTTTATTACTAAATAAAAAAAGATTCTTTCTTCATAGCTTA...</td>\n",
              "      <td>2</td>\n",
              "    </tr>\n",
              "    <tr>\n",
              "      <th>3</th>\n",
              "      <td>CAACATACTGAGTACCTGCTGTGTGACTGGAAACCCTGGTGGCATA...</td>\n",
              "      <td>2</td>\n",
              "    </tr>\n",
              "    <tr>\n",
              "      <th>4</th>\n",
              "      <td>GGCTATCTACCCCTATGAAAGATTTTAAGTCTCTGAAGACTAATGA...</td>\n",
              "      <td>2</td>\n",
              "    </tr>\n",
              "  </tbody>\n",
              "</table>\n",
              "</div>\n",
              "      <button class=\"colab-df-convert\" onclick=\"convertToInteractive('df-a9b2de98-5cb9-40cc-8fb7-100af029e2ac')\"\n",
              "              title=\"Convert this dataframe to an interactive table.\"\n",
              "              style=\"display:none;\">\n",
              "        \n",
              "  <svg xmlns=\"http://www.w3.org/2000/svg\" height=\"24px\"viewBox=\"0 0 24 24\"\n",
              "       width=\"24px\">\n",
              "    <path d=\"M0 0h24v24H0V0z\" fill=\"none\"/>\n",
              "    <path d=\"M18.56 5.44l.94 2.06.94-2.06 2.06-.94-2.06-.94-.94-2.06-.94 2.06-2.06.94zm-11 1L8.5 8.5l.94-2.06 2.06-.94-2.06-.94L8.5 2.5l-.94 2.06-2.06.94zm10 10l.94 2.06.94-2.06 2.06-.94-2.06-.94-.94-2.06-.94 2.06-2.06.94z\"/><path d=\"M17.41 7.96l-1.37-1.37c-.4-.4-.92-.59-1.43-.59-.52 0-1.04.2-1.43.59L10.3 9.45l-7.72 7.72c-.78.78-.78 2.05 0 2.83L4 21.41c.39.39.9.59 1.41.59.51 0 1.02-.2 1.41-.59l7.78-7.78 2.81-2.81c.8-.78.8-2.07 0-2.86zM5.41 20L4 18.59l7.72-7.72 1.47 1.35L5.41 20z\"/>\n",
              "  </svg>\n",
              "      </button>\n",
              "      \n",
              "  <style>\n",
              "    .colab-df-container {\n",
              "      display:flex;\n",
              "      flex-wrap:wrap;\n",
              "      gap: 12px;\n",
              "    }\n",
              "\n",
              "    .colab-df-convert {\n",
              "      background-color: #E8F0FE;\n",
              "      border: none;\n",
              "      border-radius: 50%;\n",
              "      cursor: pointer;\n",
              "      display: none;\n",
              "      fill: #1967D2;\n",
              "      height: 32px;\n",
              "      padding: 0 0 0 0;\n",
              "      width: 32px;\n",
              "    }\n",
              "\n",
              "    .colab-df-convert:hover {\n",
              "      background-color: #E2EBFA;\n",
              "      box-shadow: 0px 1px 2px rgba(60, 64, 67, 0.3), 0px 1px 3px 1px rgba(60, 64, 67, 0.15);\n",
              "      fill: #174EA6;\n",
              "    }\n",
              "\n",
              "    [theme=dark] .colab-df-convert {\n",
              "      background-color: #3B4455;\n",
              "      fill: #D2E3FC;\n",
              "    }\n",
              "\n",
              "    [theme=dark] .colab-df-convert:hover {\n",
              "      background-color: #434B5C;\n",
              "      box-shadow: 0px 1px 3px 1px rgba(0, 0, 0, 0.15);\n",
              "      filter: drop-shadow(0px 1px 2px rgba(0, 0, 0, 0.3));\n",
              "      fill: #FFFFFF;\n",
              "    }\n",
              "  </style>\n",
              "\n",
              "      <script>\n",
              "        const buttonEl =\n",
              "          document.querySelector('#df-a9b2de98-5cb9-40cc-8fb7-100af029e2ac button.colab-df-convert');\n",
              "        buttonEl.style.display =\n",
              "          google.colab.kernel.accessAllowed ? 'block' : 'none';\n",
              "\n",
              "        async function convertToInteractive(key) {\n",
              "          const element = document.querySelector('#df-a9b2de98-5cb9-40cc-8fb7-100af029e2ac');\n",
              "          const dataTable =\n",
              "            await google.colab.kernel.invokeFunction('convertToInteractive',\n",
              "                                                     [key], {});\n",
              "          if (!dataTable) return;\n",
              "\n",
              "          const docLinkHtml = 'Like what you see? Visit the ' +\n",
              "            '<a target=\"_blank\" href=https://colab.research.google.com/notebooks/data_table.ipynb>data table notebook</a>'\n",
              "            + ' to learn more about interactive tables.';\n",
              "          element.innerHTML = '';\n",
              "          dataTable['output_type'] = 'display_data';\n",
              "          await google.colab.output.renderOutput(dataTable, element);\n",
              "          const docLink = document.createElement('div');\n",
              "          docLink.innerHTML = docLinkHtml;\n",
              "          element.appendChild(docLink);\n",
              "        }\n",
              "      </script>\n",
              "    </div>\n",
              "  </div>\n",
              "  "
            ]
          },
          "metadata": {},
          "execution_count": 4
        }
      ],
      "source": [
        "dugon = pd.read_table('dna2.txt')\n",
        "dugon.head()"
      ]
    },
    {
      "cell_type": "code",
      "source": [
        "brevirostris = pd.read_table('dna3.txt')\n",
        "brevirostris.head()"
      ],
      "metadata": {
        "colab": {
          "base_uri": "https://localhost:8080/",
          "height": 206
        },
        "id": "nftPBxRI_Apy",
        "outputId": "8e0b06fb-0583-4f2b-cccf-29e8583d87ef"
      },
      "execution_count": null,
      "outputs": [
        {
          "output_type": "execute_result",
          "data": {
            "text/plain": [
              "                                            sequence  class\n",
              "0  GAAAAAAGCTTATTGTATAATTACCACAACATCACAGTACTATGCC...      3\n",
              "1  GAAAAAAGCTTATTGTACAATTACCATAACATCACAGTACTATGTC...      3\n",
              "2  GAAAAAAGCTTATTGTACAATTACCACAACATCACAGTACTATGCC...      3\n",
              "3  GAAAAAAGCTTATTGTACAATTACCACAACATCACAGTACTATGCC...      3\n",
              "4  GAAAAAAGCTTATTGTACAATTACCACAACATCACAGTACTATGCC...      3"
            ],
            "text/html": [
              "\n",
              "  <div id=\"df-28dab2bf-f8cf-4d4c-b74d-aa1dc3015ed9\">\n",
              "    <div class=\"colab-df-container\">\n",
              "      <div>\n",
              "<style scoped>\n",
              "    .dataframe tbody tr th:only-of-type {\n",
              "        vertical-align: middle;\n",
              "    }\n",
              "\n",
              "    .dataframe tbody tr th {\n",
              "        vertical-align: top;\n",
              "    }\n",
              "\n",
              "    .dataframe thead th {\n",
              "        text-align: right;\n",
              "    }\n",
              "</style>\n",
              "<table border=\"1\" class=\"dataframe\">\n",
              "  <thead>\n",
              "    <tr style=\"text-align: right;\">\n",
              "      <th></th>\n",
              "      <th>sequence</th>\n",
              "      <th>class</th>\n",
              "    </tr>\n",
              "  </thead>\n",
              "  <tbody>\n",
              "    <tr>\n",
              "      <th>0</th>\n",
              "      <td>GAAAAAAGCTTATTGTATAATTACCACAACATCACAGTACTATGCC...</td>\n",
              "      <td>3</td>\n",
              "    </tr>\n",
              "    <tr>\n",
              "      <th>1</th>\n",
              "      <td>GAAAAAAGCTTATTGTACAATTACCATAACATCACAGTACTATGTC...</td>\n",
              "      <td>3</td>\n",
              "    </tr>\n",
              "    <tr>\n",
              "      <th>2</th>\n",
              "      <td>GAAAAAAGCTTATTGTACAATTACCACAACATCACAGTACTATGCC...</td>\n",
              "      <td>3</td>\n",
              "    </tr>\n",
              "    <tr>\n",
              "      <th>3</th>\n",
              "      <td>GAAAAAAGCTTATTGTACAATTACCACAACATCACAGTACTATGCC...</td>\n",
              "      <td>3</td>\n",
              "    </tr>\n",
              "    <tr>\n",
              "      <th>4</th>\n",
              "      <td>GAAAAAAGCTTATTGTACAATTACCACAACATCACAGTACTATGCC...</td>\n",
              "      <td>3</td>\n",
              "    </tr>\n",
              "  </tbody>\n",
              "</table>\n",
              "</div>\n",
              "      <button class=\"colab-df-convert\" onclick=\"convertToInteractive('df-28dab2bf-f8cf-4d4c-b74d-aa1dc3015ed9')\"\n",
              "              title=\"Convert this dataframe to an interactive table.\"\n",
              "              style=\"display:none;\">\n",
              "        \n",
              "  <svg xmlns=\"http://www.w3.org/2000/svg\" height=\"24px\"viewBox=\"0 0 24 24\"\n",
              "       width=\"24px\">\n",
              "    <path d=\"M0 0h24v24H0V0z\" fill=\"none\"/>\n",
              "    <path d=\"M18.56 5.44l.94 2.06.94-2.06 2.06-.94-2.06-.94-.94-2.06-.94 2.06-2.06.94zm-11 1L8.5 8.5l.94-2.06 2.06-.94-2.06-.94L8.5 2.5l-.94 2.06-2.06.94zm10 10l.94 2.06.94-2.06 2.06-.94-2.06-.94-.94-2.06-.94 2.06-2.06.94z\"/><path d=\"M17.41 7.96l-1.37-1.37c-.4-.4-.92-.59-1.43-.59-.52 0-1.04.2-1.43.59L10.3 9.45l-7.72 7.72c-.78.78-.78 2.05 0 2.83L4 21.41c.39.39.9.59 1.41.59.51 0 1.02-.2 1.41-.59l7.78-7.78 2.81-2.81c.8-.78.8-2.07 0-2.86zM5.41 20L4 18.59l7.72-7.72 1.47 1.35L5.41 20z\"/>\n",
              "  </svg>\n",
              "      </button>\n",
              "      \n",
              "  <style>\n",
              "    .colab-df-container {\n",
              "      display:flex;\n",
              "      flex-wrap:wrap;\n",
              "      gap: 12px;\n",
              "    }\n",
              "\n",
              "    .colab-df-convert {\n",
              "      background-color: #E8F0FE;\n",
              "      border: none;\n",
              "      border-radius: 50%;\n",
              "      cursor: pointer;\n",
              "      display: none;\n",
              "      fill: #1967D2;\n",
              "      height: 32px;\n",
              "      padding: 0 0 0 0;\n",
              "      width: 32px;\n",
              "    }\n",
              "\n",
              "    .colab-df-convert:hover {\n",
              "      background-color: #E2EBFA;\n",
              "      box-shadow: 0px 1px 2px rgba(60, 64, 67, 0.3), 0px 1px 3px 1px rgba(60, 64, 67, 0.15);\n",
              "      fill: #174EA6;\n",
              "    }\n",
              "\n",
              "    [theme=dark] .colab-df-convert {\n",
              "      background-color: #3B4455;\n",
              "      fill: #D2E3FC;\n",
              "    }\n",
              "\n",
              "    [theme=dark] .colab-df-convert:hover {\n",
              "      background-color: #434B5C;\n",
              "      box-shadow: 0px 1px 3px 1px rgba(0, 0, 0, 0.15);\n",
              "      filter: drop-shadow(0px 1px 2px rgba(0, 0, 0, 0.3));\n",
              "      fill: #FFFFFF;\n",
              "    }\n",
              "  </style>\n",
              "\n",
              "      <script>\n",
              "        const buttonEl =\n",
              "          document.querySelector('#df-28dab2bf-f8cf-4d4c-b74d-aa1dc3015ed9 button.colab-df-convert');\n",
              "        buttonEl.style.display =\n",
              "          google.colab.kernel.accessAllowed ? 'block' : 'none';\n",
              "\n",
              "        async function convertToInteractive(key) {\n",
              "          const element = document.querySelector('#df-28dab2bf-f8cf-4d4c-b74d-aa1dc3015ed9');\n",
              "          const dataTable =\n",
              "            await google.colab.kernel.invokeFunction('convertToInteractive',\n",
              "                                                     [key], {});\n",
              "          if (!dataTable) return;\n",
              "\n",
              "          const docLinkHtml = 'Like what you see? Visit the ' +\n",
              "            '<a target=\"_blank\" href=https://colab.research.google.com/notebooks/data_table.ipynb>data table notebook</a>'\n",
              "            + ' to learn more about interactive tables.';\n",
              "          element.innerHTML = '';\n",
              "          dataTable['output_type'] = 'display_data';\n",
              "          await google.colab.output.renderOutput(dataTable, element);\n",
              "          const docLink = document.createElement('div');\n",
              "          docLink.innerHTML = docLinkHtml;\n",
              "          element.appendChild(docLink);\n",
              "        }\n",
              "      </script>\n",
              "    </div>\n",
              "  </div>\n",
              "  "
            ]
          },
          "metadata": {},
          "execution_count": 5
        }
      ]
    },
    {
      "cell_type": "markdown",
      "metadata": {
        "id": "LT3QqezTXZ5j"
      },
      "source": [
        "### Melakukan perhidungan k-mer pada DNA sequence \n",
        "\n",
        "Tantangan dalam klasifikasi data dalam bentuk kata adalah tidak satu pun dari metode jika menggunakan data di atas mdapat diklasifikasikan karena data vektor tersebut tidak memiliki panjang yang seragam, dan panjang seragam adalah persyaratan untuk memasukkan data ke algoritma klasifikasi atau regresi. Jadi dengan metode di atas harus menggunakan hal-hal seperti memotong urutan atau mengisi dengan \"n\" atau \"0\" untuk mendapatkan vektor dengan panjang yang seragam.\n",
        "\n",
        "Urutan DNA dan protein dapat dilihat sebagai natural language. Bahasa mengkodekan instruksi serta fungsi untuk molekul yang ditemukan di semua bentuk DNA mahluk hidup. Analogi bahasa urutan berlanjut dengan genom sebagai buku, suburutan (gen dan keluarga gen) adalah kalimat dan bab, k-mer dan peptida (motif) adalah kata, dan basa nukleotida dan asam amino adalah secara alfabetis. Karena analogi tersebut tampak sangat tepat, masuk akal bahwa pekerjaan luar biasa yang dilakukan di bidang pemrosesan bahasa alami juga harus diterapkan pada bahasa alami dari sekuens DNA dan protein.\n",
        "\n",
        "Metode yang digunakan di sini adalah pertama-tama mengambil urutan biologis yang panjang dan memecahnya menjadi \"words\" yang tumpang tindih dengan panjang k-mer. Misalnya, jika menggunakan \"words\" dengan panjang 6 (heksamer), \"ATGCATGCA\" menjadi: 'ATGCAT', 'TGCATG', 'GCATGC', 'CATGCA'. Kemudian dipecah menjadi 4 kata heksamer.\n",
        "\n",
        "Berikut adalah fungsi yang dapat digunakan untuk mengubah urutan (string) apa pun menjadi kata k-mer yang tumpang tindih:"
      ]
    },
    {
      "cell_type": "markdown",
      "metadata": {
        "id": "9ZLO4t-gXZ5k"
      },
      "source": [
        "### Pendifinisian fungsi untuk mengumpulkan semua kemungkinan k-mer yang tumpang tindih dengan panjang yang ditentukan dari setiap urutan string. k-mers diterpkan dengan urutan lengkap."
      ]
    },
    {
      "cell_type": "code",
      "execution_count": null,
      "metadata": {
        "id": "axQX52hxXZ5m"
      },
      "outputs": [],
      "source": [
        "# fungsi untuk mengubah rangkaian string menjadi kata k-mer, ukuran default = 6 (kata heksamer)\n",
        "def getKmers(sequence, size=6):\n",
        "    return [sequence[x:x+size].lower() for x in range(len(sequence) - size + 1)]"
      ]
    },
    {
      "cell_type": "markdown",
      "metadata": {
        "id": "CT2VfWOnXZ5m"
      },
      "source": [
        "## Ubah urutan data training menjadi k-mer tumpang tindih dengan panjang 6."
      ]
    },
    {
      "cell_type": "code",
      "execution_count": null,
      "metadata": {
        "id": "yezAx4w-XZ5n"
      },
      "outputs": [],
      "source": [
        "capensis['words'] = capensis.apply(lambda x: getKmers(x['sequence']), axis=1)\n",
        "capensis = capensis.drop('sequence', axis=1)\n",
        "dugon['words'] = dugon.apply(lambda x: getKmers(x['sequence']), axis=1)\n",
        "dugon = dugon.drop('sequence', axis=1)\n",
        "brevirostris['words'] = brevirostris.apply(lambda x: getKmers(x['sequence']), axis=1)\n",
        "brevirostris = brevirostris.drop('sequence', axis=1)"
      ]
    },
    {
      "cell_type": "markdown",
      "metadata": {
        "id": "pTp5Do5IXZ5o"
      },
      "source": [
        "### Data squence diubah menjadi huruf kecil, dibagi menjadi semua kata k-mer dengan panjang."
      ]
    },
    {
      "cell_type": "code",
      "execution_count": null,
      "metadata": {
        "colab": {
          "base_uri": "https://localhost:8080/",
          "height": 206
        },
        "id": "y3xriShOXZ5o",
        "outputId": "ca9f3956-6751-4a75-ca93-2daebd6849c3"
      },
      "outputs": [
        {
          "output_type": "execute_result",
          "data": {
            "text/plain": [
              "   class                                              words\n",
              "0      1  [tcaagg, caagga, aaggaa, aggaag, ggaaga, gaaga...\n",
              "1      1  [tcaagg, caagga, aaggaa, aggaag, ggaaga, gaaga...\n",
              "2      1  [ggttca, gttcag, ttcagg, tcagga, caggaa, aggaa...\n",
              "3      1  [atgctg, tgctgt, gctgtc, ctgtcc, tgtcct, gtcct...\n",
              "4      1  [atgggc, tgggca, gggcag, ggcagc, gcagcg, cagcg..."
            ],
            "text/html": [
              "\n",
              "  <div id=\"df-bb7c44ab-4d1d-4bb7-8272-42af3dbcf3a3\">\n",
              "    <div class=\"colab-df-container\">\n",
              "      <div>\n",
              "<style scoped>\n",
              "    .dataframe tbody tr th:only-of-type {\n",
              "        vertical-align: middle;\n",
              "    }\n",
              "\n",
              "    .dataframe tbody tr th {\n",
              "        vertical-align: top;\n",
              "    }\n",
              "\n",
              "    .dataframe thead th {\n",
              "        text-align: right;\n",
              "    }\n",
              "</style>\n",
              "<table border=\"1\" class=\"dataframe\">\n",
              "  <thead>\n",
              "    <tr style=\"text-align: right;\">\n",
              "      <th></th>\n",
              "      <th>class</th>\n",
              "      <th>words</th>\n",
              "    </tr>\n",
              "  </thead>\n",
              "  <tbody>\n",
              "    <tr>\n",
              "      <th>0</th>\n",
              "      <td>1</td>\n",
              "      <td>[tcaagg, caagga, aaggaa, aggaag, ggaaga, gaaga...</td>\n",
              "    </tr>\n",
              "    <tr>\n",
              "      <th>1</th>\n",
              "      <td>1</td>\n",
              "      <td>[tcaagg, caagga, aaggaa, aggaag, ggaaga, gaaga...</td>\n",
              "    </tr>\n",
              "    <tr>\n",
              "      <th>2</th>\n",
              "      <td>1</td>\n",
              "      <td>[ggttca, gttcag, ttcagg, tcagga, caggaa, aggaa...</td>\n",
              "    </tr>\n",
              "    <tr>\n",
              "      <th>3</th>\n",
              "      <td>1</td>\n",
              "      <td>[atgctg, tgctgt, gctgtc, ctgtcc, tgtcct, gtcct...</td>\n",
              "    </tr>\n",
              "    <tr>\n",
              "      <th>4</th>\n",
              "      <td>1</td>\n",
              "      <td>[atgggc, tgggca, gggcag, ggcagc, gcagcg, cagcg...</td>\n",
              "    </tr>\n",
              "  </tbody>\n",
              "</table>\n",
              "</div>\n",
              "      <button class=\"colab-df-convert\" onclick=\"convertToInteractive('df-bb7c44ab-4d1d-4bb7-8272-42af3dbcf3a3')\"\n",
              "              title=\"Convert this dataframe to an interactive table.\"\n",
              "              style=\"display:none;\">\n",
              "        \n",
              "  <svg xmlns=\"http://www.w3.org/2000/svg\" height=\"24px\"viewBox=\"0 0 24 24\"\n",
              "       width=\"24px\">\n",
              "    <path d=\"M0 0h24v24H0V0z\" fill=\"none\"/>\n",
              "    <path d=\"M18.56 5.44l.94 2.06.94-2.06 2.06-.94-2.06-.94-.94-2.06-.94 2.06-2.06.94zm-11 1L8.5 8.5l.94-2.06 2.06-.94-2.06-.94L8.5 2.5l-.94 2.06-2.06.94zm10 10l.94 2.06.94-2.06 2.06-.94-2.06-.94-.94-2.06-.94 2.06-2.06.94z\"/><path d=\"M17.41 7.96l-1.37-1.37c-.4-.4-.92-.59-1.43-.59-.52 0-1.04.2-1.43.59L10.3 9.45l-7.72 7.72c-.78.78-.78 2.05 0 2.83L4 21.41c.39.39.9.59 1.41.59.51 0 1.02-.2 1.41-.59l7.78-7.78 2.81-2.81c.8-.78.8-2.07 0-2.86zM5.41 20L4 18.59l7.72-7.72 1.47 1.35L5.41 20z\"/>\n",
              "  </svg>\n",
              "      </button>\n",
              "      \n",
              "  <style>\n",
              "    .colab-df-container {\n",
              "      display:flex;\n",
              "      flex-wrap:wrap;\n",
              "      gap: 12px;\n",
              "    }\n",
              "\n",
              "    .colab-df-convert {\n",
              "      background-color: #E8F0FE;\n",
              "      border: none;\n",
              "      border-radius: 50%;\n",
              "      cursor: pointer;\n",
              "      display: none;\n",
              "      fill: #1967D2;\n",
              "      height: 32px;\n",
              "      padding: 0 0 0 0;\n",
              "      width: 32px;\n",
              "    }\n",
              "\n",
              "    .colab-df-convert:hover {\n",
              "      background-color: #E2EBFA;\n",
              "      box-shadow: 0px 1px 2px rgba(60, 64, 67, 0.3), 0px 1px 3px 1px rgba(60, 64, 67, 0.15);\n",
              "      fill: #174EA6;\n",
              "    }\n",
              "\n",
              "    [theme=dark] .colab-df-convert {\n",
              "      background-color: #3B4455;\n",
              "      fill: #D2E3FC;\n",
              "    }\n",
              "\n",
              "    [theme=dark] .colab-df-convert:hover {\n",
              "      background-color: #434B5C;\n",
              "      box-shadow: 0px 1px 3px 1px rgba(0, 0, 0, 0.15);\n",
              "      filter: drop-shadow(0px 1px 2px rgba(0, 0, 0, 0.3));\n",
              "      fill: #FFFFFF;\n",
              "    }\n",
              "  </style>\n",
              "\n",
              "      <script>\n",
              "        const buttonEl =\n",
              "          document.querySelector('#df-bb7c44ab-4d1d-4bb7-8272-42af3dbcf3a3 button.colab-df-convert');\n",
              "        buttonEl.style.display =\n",
              "          google.colab.kernel.accessAllowed ? 'block' : 'none';\n",
              "\n",
              "        async function convertToInteractive(key) {\n",
              "          const element = document.querySelector('#df-bb7c44ab-4d1d-4bb7-8272-42af3dbcf3a3');\n",
              "          const dataTable =\n",
              "            await google.colab.kernel.invokeFunction('convertToInteractive',\n",
              "                                                     [key], {});\n",
              "          if (!dataTable) return;\n",
              "\n",
              "          const docLinkHtml = 'Like what you see? Visit the ' +\n",
              "            '<a target=\"_blank\" href=https://colab.research.google.com/notebooks/data_table.ipynb>data table notebook</a>'\n",
              "            + ' to learn more about interactive tables.';\n",
              "          element.innerHTML = '';\n",
              "          dataTable['output_type'] = 'display_data';\n",
              "          await google.colab.output.renderOutput(dataTable, element);\n",
              "          const docLink = document.createElement('div');\n",
              "          docLink.innerHTML = docLinkHtml;\n",
              "          element.appendChild(docLink);\n",
              "        }\n",
              "      </script>\n",
              "    </div>\n",
              "  </div>\n",
              "  "
            ]
          },
          "metadata": {},
          "execution_count": 8
        }
      ],
      "source": [
        "capensis.head()"
      ]
    },
    {
      "cell_type": "code",
      "source": [
        "dugon.head()"
      ],
      "metadata": {
        "colab": {
          "base_uri": "https://localhost:8080/",
          "height": 206
        },
        "id": "yp_30l1H_dBQ",
        "outputId": "59df28cc-c026-4dc8-c357-ec7900723b65"
      },
      "execution_count": null,
      "outputs": [
        {
          "output_type": "execute_result",
          "data": {
            "text/plain": [
              "   class                                              words\n",
              "0      2  [tagtgg, agtgga, gtggaa, tggaaa, ggaaat, gaaat...\n",
              "1      2  [atgtaa, tgtaag, gtaagg, taaggt, aaggtt, aggtt...\n",
              "2      2  [aacatt, acattt, catttt, attttt, ttttta, tttta...\n",
              "3      2  [caacat, aacata, acatac, catact, atactg, tactg...\n",
              "4      2  [ggctat, gctatc, ctatct, tatcta, atctac, tctac..."
            ],
            "text/html": [
              "\n",
              "  <div id=\"df-be5cac21-e09e-493b-a865-d63dbaf7db39\">\n",
              "    <div class=\"colab-df-container\">\n",
              "      <div>\n",
              "<style scoped>\n",
              "    .dataframe tbody tr th:only-of-type {\n",
              "        vertical-align: middle;\n",
              "    }\n",
              "\n",
              "    .dataframe tbody tr th {\n",
              "        vertical-align: top;\n",
              "    }\n",
              "\n",
              "    .dataframe thead th {\n",
              "        text-align: right;\n",
              "    }\n",
              "</style>\n",
              "<table border=\"1\" class=\"dataframe\">\n",
              "  <thead>\n",
              "    <tr style=\"text-align: right;\">\n",
              "      <th></th>\n",
              "      <th>class</th>\n",
              "      <th>words</th>\n",
              "    </tr>\n",
              "  </thead>\n",
              "  <tbody>\n",
              "    <tr>\n",
              "      <th>0</th>\n",
              "      <td>2</td>\n",
              "      <td>[tagtgg, agtgga, gtggaa, tggaaa, ggaaat, gaaat...</td>\n",
              "    </tr>\n",
              "    <tr>\n",
              "      <th>1</th>\n",
              "      <td>2</td>\n",
              "      <td>[atgtaa, tgtaag, gtaagg, taaggt, aaggtt, aggtt...</td>\n",
              "    </tr>\n",
              "    <tr>\n",
              "      <th>2</th>\n",
              "      <td>2</td>\n",
              "      <td>[aacatt, acattt, catttt, attttt, ttttta, tttta...</td>\n",
              "    </tr>\n",
              "    <tr>\n",
              "      <th>3</th>\n",
              "      <td>2</td>\n",
              "      <td>[caacat, aacata, acatac, catact, atactg, tactg...</td>\n",
              "    </tr>\n",
              "    <tr>\n",
              "      <th>4</th>\n",
              "      <td>2</td>\n",
              "      <td>[ggctat, gctatc, ctatct, tatcta, atctac, tctac...</td>\n",
              "    </tr>\n",
              "  </tbody>\n",
              "</table>\n",
              "</div>\n",
              "      <button class=\"colab-df-convert\" onclick=\"convertToInteractive('df-be5cac21-e09e-493b-a865-d63dbaf7db39')\"\n",
              "              title=\"Convert this dataframe to an interactive table.\"\n",
              "              style=\"display:none;\">\n",
              "        \n",
              "  <svg xmlns=\"http://www.w3.org/2000/svg\" height=\"24px\"viewBox=\"0 0 24 24\"\n",
              "       width=\"24px\">\n",
              "    <path d=\"M0 0h24v24H0V0z\" fill=\"none\"/>\n",
              "    <path d=\"M18.56 5.44l.94 2.06.94-2.06 2.06-.94-2.06-.94-.94-2.06-.94 2.06-2.06.94zm-11 1L8.5 8.5l.94-2.06 2.06-.94-2.06-.94L8.5 2.5l-.94 2.06-2.06.94zm10 10l.94 2.06.94-2.06 2.06-.94-2.06-.94-.94-2.06-.94 2.06-2.06.94z\"/><path d=\"M17.41 7.96l-1.37-1.37c-.4-.4-.92-.59-1.43-.59-.52 0-1.04.2-1.43.59L10.3 9.45l-7.72 7.72c-.78.78-.78 2.05 0 2.83L4 21.41c.39.39.9.59 1.41.59.51 0 1.02-.2 1.41-.59l7.78-7.78 2.81-2.81c.8-.78.8-2.07 0-2.86zM5.41 20L4 18.59l7.72-7.72 1.47 1.35L5.41 20z\"/>\n",
              "  </svg>\n",
              "      </button>\n",
              "      \n",
              "  <style>\n",
              "    .colab-df-container {\n",
              "      display:flex;\n",
              "      flex-wrap:wrap;\n",
              "      gap: 12px;\n",
              "    }\n",
              "\n",
              "    .colab-df-convert {\n",
              "      background-color: #E8F0FE;\n",
              "      border: none;\n",
              "      border-radius: 50%;\n",
              "      cursor: pointer;\n",
              "      display: none;\n",
              "      fill: #1967D2;\n",
              "      height: 32px;\n",
              "      padding: 0 0 0 0;\n",
              "      width: 32px;\n",
              "    }\n",
              "\n",
              "    .colab-df-convert:hover {\n",
              "      background-color: #E2EBFA;\n",
              "      box-shadow: 0px 1px 2px rgba(60, 64, 67, 0.3), 0px 1px 3px 1px rgba(60, 64, 67, 0.15);\n",
              "      fill: #174EA6;\n",
              "    }\n",
              "\n",
              "    [theme=dark] .colab-df-convert {\n",
              "      background-color: #3B4455;\n",
              "      fill: #D2E3FC;\n",
              "    }\n",
              "\n",
              "    [theme=dark] .colab-df-convert:hover {\n",
              "      background-color: #434B5C;\n",
              "      box-shadow: 0px 1px 3px 1px rgba(0, 0, 0, 0.15);\n",
              "      filter: drop-shadow(0px 1px 2px rgba(0, 0, 0, 0.3));\n",
              "      fill: #FFFFFF;\n",
              "    }\n",
              "  </style>\n",
              "\n",
              "      <script>\n",
              "        const buttonEl =\n",
              "          document.querySelector('#df-be5cac21-e09e-493b-a865-d63dbaf7db39 button.colab-df-convert');\n",
              "        buttonEl.style.display =\n",
              "          google.colab.kernel.accessAllowed ? 'block' : 'none';\n",
              "\n",
              "        async function convertToInteractive(key) {\n",
              "          const element = document.querySelector('#df-be5cac21-e09e-493b-a865-d63dbaf7db39');\n",
              "          const dataTable =\n",
              "            await google.colab.kernel.invokeFunction('convertToInteractive',\n",
              "                                                     [key], {});\n",
              "          if (!dataTable) return;\n",
              "\n",
              "          const docLinkHtml = 'Like what you see? Visit the ' +\n",
              "            '<a target=\"_blank\" href=https://colab.research.google.com/notebooks/data_table.ipynb>data table notebook</a>'\n",
              "            + ' to learn more about interactive tables.';\n",
              "          element.innerHTML = '';\n",
              "          dataTable['output_type'] = 'display_data';\n",
              "          await google.colab.output.renderOutput(dataTable, element);\n",
              "          const docLink = document.createElement('div');\n",
              "          docLink.innerHTML = docLinkHtml;\n",
              "          element.appendChild(docLink);\n",
              "        }\n",
              "      </script>\n",
              "    </div>\n",
              "  </div>\n",
              "  "
            ]
          },
          "metadata": {},
          "execution_count": 9
        }
      ]
    },
    {
      "cell_type": "code",
      "source": [
        "brevirostris.head()"
      ],
      "metadata": {
        "colab": {
          "base_uri": "https://localhost:8080/",
          "height": 206
        },
        "id": "W3fsnAqP_icI",
        "outputId": "f56624c3-3f9e-41a9-975e-0b53689359e8"
      },
      "execution_count": null,
      "outputs": [
        {
          "output_type": "execute_result",
          "data": {
            "text/plain": [
              "   class                                              words\n",
              "0      3  [gaaaaa, aaaaaa, aaaaag, aaaagc, aaagct, aagct...\n",
              "1      3  [gaaaaa, aaaaaa, aaaaag, aaaagc, aaagct, aagct...\n",
              "2      3  [gaaaaa, aaaaaa, aaaaag, aaaagc, aaagct, aagct...\n",
              "3      3  [gaaaaa, aaaaaa, aaaaag, aaaagc, aaagct, aagct...\n",
              "4      3  [gaaaaa, aaaaaa, aaaaag, aaaagc, aaagct, aagct..."
            ],
            "text/html": [
              "\n",
              "  <div id=\"df-dcbcb6ab-3a86-44a1-8f83-9cf0afcb7bf9\">\n",
              "    <div class=\"colab-df-container\">\n",
              "      <div>\n",
              "<style scoped>\n",
              "    .dataframe tbody tr th:only-of-type {\n",
              "        vertical-align: middle;\n",
              "    }\n",
              "\n",
              "    .dataframe tbody tr th {\n",
              "        vertical-align: top;\n",
              "    }\n",
              "\n",
              "    .dataframe thead th {\n",
              "        text-align: right;\n",
              "    }\n",
              "</style>\n",
              "<table border=\"1\" class=\"dataframe\">\n",
              "  <thead>\n",
              "    <tr style=\"text-align: right;\">\n",
              "      <th></th>\n",
              "      <th>class</th>\n",
              "      <th>words</th>\n",
              "    </tr>\n",
              "  </thead>\n",
              "  <tbody>\n",
              "    <tr>\n",
              "      <th>0</th>\n",
              "      <td>3</td>\n",
              "      <td>[gaaaaa, aaaaaa, aaaaag, aaaagc, aaagct, aagct...</td>\n",
              "    </tr>\n",
              "    <tr>\n",
              "      <th>1</th>\n",
              "      <td>3</td>\n",
              "      <td>[gaaaaa, aaaaaa, aaaaag, aaaagc, aaagct, aagct...</td>\n",
              "    </tr>\n",
              "    <tr>\n",
              "      <th>2</th>\n",
              "      <td>3</td>\n",
              "      <td>[gaaaaa, aaaaaa, aaaaag, aaaagc, aaagct, aagct...</td>\n",
              "    </tr>\n",
              "    <tr>\n",
              "      <th>3</th>\n",
              "      <td>3</td>\n",
              "      <td>[gaaaaa, aaaaaa, aaaaag, aaaagc, aaagct, aagct...</td>\n",
              "    </tr>\n",
              "    <tr>\n",
              "      <th>4</th>\n",
              "      <td>3</td>\n",
              "      <td>[gaaaaa, aaaaaa, aaaaag, aaaagc, aaagct, aagct...</td>\n",
              "    </tr>\n",
              "  </tbody>\n",
              "</table>\n",
              "</div>\n",
              "      <button class=\"colab-df-convert\" onclick=\"convertToInteractive('df-dcbcb6ab-3a86-44a1-8f83-9cf0afcb7bf9')\"\n",
              "              title=\"Convert this dataframe to an interactive table.\"\n",
              "              style=\"display:none;\">\n",
              "        \n",
              "  <svg xmlns=\"http://www.w3.org/2000/svg\" height=\"24px\"viewBox=\"0 0 24 24\"\n",
              "       width=\"24px\">\n",
              "    <path d=\"M0 0h24v24H0V0z\" fill=\"none\"/>\n",
              "    <path d=\"M18.56 5.44l.94 2.06.94-2.06 2.06-.94-2.06-.94-.94-2.06-.94 2.06-2.06.94zm-11 1L8.5 8.5l.94-2.06 2.06-.94-2.06-.94L8.5 2.5l-.94 2.06-2.06.94zm10 10l.94 2.06.94-2.06 2.06-.94-2.06-.94-.94-2.06-.94 2.06-2.06.94z\"/><path d=\"M17.41 7.96l-1.37-1.37c-.4-.4-.92-.59-1.43-.59-.52 0-1.04.2-1.43.59L10.3 9.45l-7.72 7.72c-.78.78-.78 2.05 0 2.83L4 21.41c.39.39.9.59 1.41.59.51 0 1.02-.2 1.41-.59l7.78-7.78 2.81-2.81c.8-.78.8-2.07 0-2.86zM5.41 20L4 18.59l7.72-7.72 1.47 1.35L5.41 20z\"/>\n",
              "  </svg>\n",
              "      </button>\n",
              "      \n",
              "  <style>\n",
              "    .colab-df-container {\n",
              "      display:flex;\n",
              "      flex-wrap:wrap;\n",
              "      gap: 12px;\n",
              "    }\n",
              "\n",
              "    .colab-df-convert {\n",
              "      background-color: #E8F0FE;\n",
              "      border: none;\n",
              "      border-radius: 50%;\n",
              "      cursor: pointer;\n",
              "      display: none;\n",
              "      fill: #1967D2;\n",
              "      height: 32px;\n",
              "      padding: 0 0 0 0;\n",
              "      width: 32px;\n",
              "    }\n",
              "\n",
              "    .colab-df-convert:hover {\n",
              "      background-color: #E2EBFA;\n",
              "      box-shadow: 0px 1px 2px rgba(60, 64, 67, 0.3), 0px 1px 3px 1px rgba(60, 64, 67, 0.15);\n",
              "      fill: #174EA6;\n",
              "    }\n",
              "\n",
              "    [theme=dark] .colab-df-convert {\n",
              "      background-color: #3B4455;\n",
              "      fill: #D2E3FC;\n",
              "    }\n",
              "\n",
              "    [theme=dark] .colab-df-convert:hover {\n",
              "      background-color: #434B5C;\n",
              "      box-shadow: 0px 1px 3px 1px rgba(0, 0, 0, 0.15);\n",
              "      filter: drop-shadow(0px 1px 2px rgba(0, 0, 0, 0.3));\n",
              "      fill: #FFFFFF;\n",
              "    }\n",
              "  </style>\n",
              "\n",
              "      <script>\n",
              "        const buttonEl =\n",
              "          document.querySelector('#df-dcbcb6ab-3a86-44a1-8f83-9cf0afcb7bf9 button.colab-df-convert');\n",
              "        buttonEl.style.display =\n",
              "          google.colab.kernel.accessAllowed ? 'block' : 'none';\n",
              "\n",
              "        async function convertToInteractive(key) {\n",
              "          const element = document.querySelector('#df-dcbcb6ab-3a86-44a1-8f83-9cf0afcb7bf9');\n",
              "          const dataTable =\n",
              "            await google.colab.kernel.invokeFunction('convertToInteractive',\n",
              "                                                     [key], {});\n",
              "          if (!dataTable) return;\n",
              "\n",
              "          const docLinkHtml = 'Like what you see? Visit the ' +\n",
              "            '<a target=\"_blank\" href=https://colab.research.google.com/notebooks/data_table.ipynb>data table notebook</a>'\n",
              "            + ' to learn more about interactive tables.';\n",
              "          element.innerHTML = '';\n",
              "          dataTable['output_type'] = 'display_data';\n",
              "          await google.colab.output.renderOutput(dataTable, element);\n",
              "          const docLink = document.createElement('div');\n",
              "          docLink.innerHTML = docLinkHtml;\n",
              "          element.appendChild(docLink);\n",
              "        }\n",
              "      </script>\n",
              "    </div>\n",
              "  </div>\n",
              "  "
            ]
          },
          "metadata": {},
          "execution_count": 10
        }
      ]
    },
    {
      "cell_type": "markdown",
      "metadata": {
        "id": "4ciSlcK4XZ5p"
      },
      "source": [
        "### Scikit-learn digunakan untuk melakukan proses NLP untuk penghitungan k-mer, ubah data k-mer setiap gen menjadi kalimat string yang dapat digunakan oleh count vectorizer. variabel y dibuat untuk menyimpan label kelas."
      ]
    },
    {
      "cell_type": "code",
      "execution_count": null,
      "metadata": {
        "id": "Anom7DyoXZ5p"
      },
      "outputs": [],
      "source": [
        "capensis_texts = list(capensis['words'])\n",
        "for item in range(len(capensis_texts)):\n",
        "    capensis_texts[item] = ' '.join(capensis_texts[item])\n",
        "y_data = capensis.iloc[:, 0].values                         "
      ]
    },
    {
      "cell_type": "code",
      "execution_count": null,
      "metadata": {
        "colab": {
          "base_uri": "https://localhost:8080/"
        },
        "id": "HjUAOHhTXZ5p",
        "outputId": "0b73b25a-9553-4a09-b2e2-a4c82a96dcc3"
      },
      "outputs": [
        {
          "output_type": "stream",
          "name": "stdout",
          "text": [
            "ggttca gttcag ttcagg tcagga caggaa aggaat ggaatt gaatta aattac attaca ttacac tacacg acacgg cacggt acggtt cggttt ggttta gtttat tttata ttatag tataga atagag tagagg agaggg gaggga agggat gggatc ggatca gatcag atcagg tcaggg cagggt agggtt gggtta ggttac gttaca ttacag tacagg acaggt caggtt aggttc ggttct gttctt ttctta tcttag cttagt ttagta tagtaa agtaag gtaagg taaggt aaggta aggtat ggtatc gtatct tatctt atcttg tcttga cttgac ttgacc tgaccc gaccca acccaa cccaat ccaata caataa aataaa ataaag taaagc aaagcg aagcga agcgag gcgagg cgagga gaggaa aggaaa ggaaaa gaaaat aaaata aaataa aataac ataaca taacat aacatt acatta cattag attagg ttagga taggag aggagt ggagta gagtaa agtaaa gtaaac taaact aaactc aactct actctg ctctgc tctgcc ctgccc tgccca gcccaa cccaat ccaatc caatca aatcag atcagt tcagtt cagttg agttgg gttggg ttgggg tggggt ggggtg gggtgt ggtgta gtgtaa tgtaat gtaatt taatta aattat attatt ttattt tatttg atttgt tttgtg ttgtga tgtgaa gtgaat tgaatc gaatcg aatcgg atcgga tcggat cggatc ggatct gatctc atctct tctctg ctctgg tctgga ctggat tggatt ggattc gattcc attcca ttccag tccagc ccagcg cagcgt agcgtt gcgttt cgtttg gtttgc tttgct ttgctg tgctgg gctgga ctggat tggatt ggattc gattct attctg ttctga tctgat ctgatt tgattt gatttt attttt tttttg ttttgc tttgct ttgctc tgctcc gctccc ctccca tcccaa cccaat ccaatc caatca aatcaa atcaat tcaatt caattt aatttc atttcc tttcca ttccac tccact ccactg cactgt actgtt ctgtta tgttac gttacc ttacct tacctg acctga cctgac ctgacc tgacca gaccag accagt ccagtg cagtgg agtgga gtggaa tggaat ggaata gaatac aatact atactg tactga actgac ctgact tgacta gactaa actaat ctaata taataa aataaa ataaaa taaaag aaaaga aaagac aagact agactt gactta acttaa cttaat ttaata taatag aatagg ataggc taggcg aggcgt ggcgtt gcgttt cgtttc gtttca tttcag ttcagt tcagtg cagtga agtgaa gtgaag tgaagg gaaggc aaggcc aggccg ggccgc gccgca ccgcag cgcagg gcagga caggag aggagg ggaggt gaggtt aggttc ggttct gttctg ttctgc tctgca ctgcag tgcagg gcaggg caggga agggac gggact ggactg gactgg actgga ctggag tggagt ggagta gagtat agtatt gtattt tatttt attttt tttttc ttttct tttctg ttctgc tctgca ctgcag tgcaga gcagaa cagaat agaatc gaatca aatcat atcatc tcatcg catcgg atcgga tcggag cggagg ggaggt gaggtg aggtgg ggtgga gtggat tggatg ggatgt gatgtt atgttt tgtttg gtttgc tttgca ttgcac tgcacc gcaccc caccca acccag cccaga ccagag cagagc agagcc gagcct agcctc gcctcc cctccc ctccca tcccat cccatg ccatgt catgtt atgtta tgttag gttagg ttagga taggat aggatg ggatga gatgag atgagg tgaggc gaggct aggctg ggctga gctgaa ctgaaa tgaaaa gaaaat aaaatt aaattg aattgc attgcc ttgcca tgccat gccatc ccatca catcag atcagt tcagtg cagtgt agtgtc gtgtca tgtcag gtcagg tcagga caggaa aggaat ggaatt gaattt aatttt attttc ttttcg tttcgc ttcgcc tcgccc cgccca gcccaa cccaaa ccaaat caaata aaatag aatagg ataggg tagggc agggcc gggccc ggccct gccctg ccctgg cctgga ctggag tggaga ggagat gagata agatag gataga atagat tagatg agatgt gatgtc atgtct tgtctt gtcttt tcttta ctttat tttatc ttatcc tatcca atccat tccata ccatac cataca atacat tacata acatac catacc ataccc tacccg acccga cccgac ccgacc cgacca gaccag accagg ccaggc caggct aggctg ggctgt gctgta ctgtac tgtaca gtacac tacacc acaccc caccca acccat cccata ccatat catata atatat tatata atataa tataag ataagg taaggg aagggc agggca gggcac ggcact gcactt cactta acttac cttact ttactt tacttt actttt cttttg ttttgt tttgtg ttgtgg tgtggt gtggtt tggttt ggttta gtttat tttatt ttattg tattgc attgct ttgctg tgctgg gctggg ctgggg tggggg gggggt ggggtg gggtgt ggtgtt gtgttt tgtttt gttttg ttttga tttgac ttgact tgactc gactcg actcga ctcgat tcgatg cgatgg gatgga atggaa tggaat ggaatt gaattt aatttt attttt tttttc ttttct tttctg ttctgc tctgcc ctgcca tgccag gccaga ccagaa cagaag agaagt gaagta aagtag agtagc gtagct tagctg agctgc gctgca ctgcat tgcata gcatag cataga atagat tagata agatat gatatt atattt tatttg atttgt tttgtt ttgttg tgttgt gttgtt ttgttt tgtttc gtttca tttcag ttcagt tcagtc cagtct agtctc gtctca tctcat ctcatc tcatct catctt atcttc tcttct cttctt ttcttt tctttg ctttgg tttggt ttggtg tggtga ggtgaa gtgaaa tgaaat gaaatg aaatgt aatgtg atgtgg tgtggg gtgggg tggggt ggggta gggtag ggtagg gtaggt taggtg aggtgc ggtgct gtgctt tgcttt gctttg ctttgt tttgtt ttgttg tgttgg gttggt ttggtg tggtgg ggtggt gtggtc tggtct ggtctg gtctgc tctgca ctgcat tgcatt gcatta cattat attatc ttatca tatcaa atcaag tcaagc caagct aagctg agctgt gctgtt ctgtta tgttat gttatg ttatgt tatgta atgtac tgtaca gtacac tacacc acacca caccac accacc ccacct cacctt accttc ccttcc cttccc ttccct tccctg ccctgc cctgca ctgcat tgcatt gcattg cattgt attgtc ttgtcg tgtcgt gtcgtt tcgttc cgttcc gttcca ttccag tccagt ccagtt cagttg agttgc gttgct ttgctt tgctta gcttat cttatg ttatgc tatgcc atgcca tgccat gccatt ccattt catttg atttgg tttggt ttggtc tggtct ggtctg gtctgg tctggg ctgggc tgggcc gggcct ggcctt gccttc ccttca cttcaa ttcaaa tcaaaa caaaag aaaagc aaagct aagctc agctct gctctt ctcttt tctttg ctttgc tttgcg ttgcgg tgcggg gcgggc cgggct gggctt ggcttc gcttcc cttccc ttccct tccctg ccctgg cctggt ctggtg tggtgg ggtggc gtggcg tggcgc ggcgca gcgcag cgcagt gcagtg cagtgg agtggt gtggtt tggttg ggttga gttgag ttgaga tgagag gagagt agagtc gagtcc agtccg gtccgc tccgcc ccgcct cgcctg gcctgc cctgcc ctgccg tgccga gccgat ccgatg cgatgt gatgta atgtag tgtagg gtaggg taggga agggaa gggaac ggaaca gaacac aacacg acacgg cacggg acgggt cgggtt gggttc ggttcg gttcgt ttcgtg tcgtgc cgtgcc gtgccc tgcccc gccccg ccccgg cccggt ccggtc cggtcc ggtccg gtccgg tccggg ccggga cgggaa gggaag ggaaga gaagat aagatc agatcc gatccc atccca tcccac cccacg ccacgt cacgtg acgtgc cgtgcc gtgccg tgccgc gccgcg ccgcgg cgcgga gcggag cggagc ggagcg gagcgg agcggc gcggct cggctg ggctgg gctggg ctgggc tgggcc gggccc ggcccg gcccgt cccgtg ccgtga cgtgag gtgagc tgagcc gagcca agccat gccatg ccatgg catggc atggcc tggccg ggccgc gccgct ccgctg cgctga gctgag ctgagc tgagcc gagcct agcctg gcctgc cctgcg ctgcgc tgcgcg gcgcgt cgcgtc gcgtcc cgtccg gtccgg tccgga ccggag cggagc ggagcc gagcct agcctg gcctgt cctgtg ctgtgc tgtgct gtgctc tgctcc gctccg ctccgc tccgca ccgcaa cgcaac gcaacg caacgg aacggg acggga cgggag gggaga ggagag gagagg agaggc gaggcc aggcca ggccac gccaca ccacaa cacaac acaaca caacag aacagt acagtg cagtga agtgag gtgaga tgagaa gagaag agaagc gaagcc aagccc agcccg gcccgc cccgca ccgcaa cgcaaa gcaaac caaacc aaaccg aaccgg accgga ccggaa cggaaa ggaaaa gaaaaa aaaaaa aaaaaa aaaaaa aaaaaa aaaaaa aaaaaa aaaaaa aaaaaa aaaaaa aaaaaa aaaaaa aaaaaa aaaaaa aaaaag aaaaga aaagaa aagaaa agaaaa gaaaaa aaaaaa aaaaaa aaaaaa aaaaaa aaaaaa aaaaag aaaagc aaagct aagctc agctct gctctt ctcttt tctttg ctttgc tttgca ttgcat tgcatt gcattt catttg atttgc tttgcc ttgcca tgccaa gccaac ccaacc caacca aaccaa accaat ccaatt caattc aattct attctc ttctcc tctcca ctccac tccact ccactg cactgc actgct ctgctt tgcttg gcttgg cttggt ttggtc tggtcc ggtcct gtcctc tcctct cctctg ctctgc tctgca ctgcag tgcaga gcagac cagaca agacat gacatg acatgt catgtt atgtta tgttag gttagg ttaggt taggtt aggttg ggttga gttgat ttgatt tgattg gattgt attgtt ttgttt tgtttt gttttc ttttct tttctt ttcttt tcttta ctttat tttatt ttattg tattgg attggt ttggtt tggttg ggttga gttgag ttgaga tgagaa gagaag agaagc gaagcc aagccc agccct gccctg ccctgt cctgta ctgtat tgtatg gtatgc tatgca atgcat tgcatt gcattg cattgc attgcc ttgcca tgccac gccacg ccacgg cacggg acgggc cgggcc gggccc ggccca gcccag cccagc ccagct cagctc agctca gctcat ctcata tcatag catagt atagtt tagtta agttag gttagt ttagtg tagtgt agtgta gtgtat tgtatt gtattt tatttt attttt tttttg ttttgc tttgcc ttgccc tgccca gcccat cccata ccatag catagt atagtt tagtta agttac gttact ttactc tactct actctt ctcttc tcttct cttctt ttctta tcttaa cttaat ttaatt taattt aatttt attttt tttttg ttttgt tttgtg ttgtgg tgtggt gtggtt tggttt ggtttg gtttga tttgaa ttgaat tgaatt gaattg aattgt attgtg ttgtgc tgtgcc gtgcca tgccat gccatc ccatct catctg atctgc tctgct ctgctg tgctga gctgaa ctgaag tgaagt gaagtt aagttt agtttg gtttgg tttggt ttggta tggtag ggtaga gtagaa tagaac agaacc gaaccc aaccca acccat cccata ccatat catata atatag tatagg ataggt taggta aggtac ggtact gtactg tactgg actggt ctggtc tggtcg ggtcga gtcgac tcgaca cgacaa gacaag acaagg caaggg aagggg aggggg gggggt ggggtt gggttg ggttgg gttgga ttggag tggaga ggagag gagaga agagat gagatg agatga gatgag atgagt tgagtc gagtca agtcac gtcact tcactc cactct actctt ctcttt tctttt ctttta ttttat tttatt ttatta tattat attatg ttatgc tatgca atgcac tgcaca gcacaa cacaag acaagg caaggc aaggca aggcaa ggcaag gcaaga caagag aagagt agagtg gagtga agtgaa gtgaaa tgaaaa gaaaag aaaagg aaaggg aaggga agggag gggagg ggaggt gaggtc aggtct ggtctt gtcttc tcttca cttcaa ttcaaa tcaaag caaagg aaaggc aaggca aggcat ggcata gcatat catatt atattg tattga attgaa ttgaaa tgaaaa gaaaac aaaacc aaaccg aaccga accgaa ccgaaa cgaaat gaaatt aaatta aattat attatt ttattg tattgc attgcc ttgcca tgccaa gccaat ccaatg caatgc aatgcg atgcga tgcgaa gcgaag cgaagc gaagca aagcat agcatc gcatct catctg atctga tctgac ctgact tgactg gactgg actgga ctggaa tggaaa ggaaaa gaaaag aaaagt aaagta aagtat agtatt gtattc tattct attcta ttctag tctagg ctaggc taggca aggcaa ggcaat gcaata caataa aataaa ataaaa taaaaa aaaaag aaaagc aaagct aagctg agctga gctgag ctgagc tgagcg gagcgt agcgtg gcgtgg cgtgga gtggag tggagt ggagta gagtag agtagg gtaggg tagggg agggga ggggat gggatg ggatgt gatgtg atgtgt tgtgtt gtgttc tgttcc gttccc ttccct tccctc ccctct cctctg ctctgc tctgct ctgctc tgctct gctctt ctcttc tcttca cttcat ttcata tcatat catatg atatgc tatgca atgcac tgcaca gcacag cacagt acagtg cagtgc agtgca gtgcag tgcagt gcagta cagtac agtacc gtacca taccag accagt ccagta cagtac agtact gtactg tactga actgag ctgagg tgaggc gaggcc aggcca ggccac gccaca ccacat cacata acataa cataaa ataaaa taaaaa aaaaac aaaaca aaacat aacatc acatca catcac atcacc tcaccg caccgg accggg ccggga cgggaa gggaaa ggaaaa gaaaag aaaagc aaagcg aagcgg agcggg gcgggc cgggca gggcaa ggcaag gcaagc caagca aagcac agcacc gcaccc cacccc acccct cccctc ccctcg cctcgg ctcggt tcggtg cggtgg ggtggc gtggca tggcat ggcatt gcattt catttc atttcc tttcca ttccaa tccaac ccaacc caacca aaccac accacg ccacgt cacgta acgtat cgtatg gtatgg tatggc atggca tggcag ggcagc gcagct cagctg agctgg gctggt ctggta tggtat ggtatg gtatgt tatgtg atgtgt tgtgtc gtgtca tgtcat gtcatc tcatct catctg atctgc tctgca ctgcaa tgcaaa gcaaaa caaaaa aaaaat aaaatc aaatct aatcta atctag tctaga ctagat tagatg agatgg gatggt atggtt tggttg ggttga gttgac ttgacg tgacgt gacgtt acgtta cgttag gttagg ttaggt taggtt aggtta ggttat gttatt ttattg tattgg attggc ttggca tggcaa ggcaat gcaatt caattg aattgt attgtc ttgtct tgtctt gtcttt tctttg ctttgt tttgtg ttgtgc tgtgcc gtgcct tgcctg gcctgc cctgct ctgctg tgctgc gctgcc ctgcct tgcctc gcctcc cctcca ctccat tccatg ccatga catgac atgacc tgacct gacctc acctcc cctcct ctcctt tcctta ccttaa cttaac ttaact taactt aacttg acttgt cttgta ttgtat tgtatg gtatgt tatgtt atgttg tgttga gttgaa ttgaaa tgaaaa gaaaat aaaatt aaattt aatttt attttg ttttga tttgat ttgatt tgattc gattct attcta ttctac tctacg ctacga tacgag acgagc cgagcc gagcct agcctt gccttt cctttg ctttgg tttggt ttggtc tggtcg ggtcgg gtcgga tcggat cggatg ggatgc gatgcc atgccc tgcccc gcccca ccccag cccagt ccagta cagtag agtagt gtagtt tagttg agttgt gttgtt ttgttg tgttga gttgat ttgatg tgatga gatgag atgagt tgagtc gagtcg agtcgc gtcgct tcgctg cgctga gctgac ctgaca tgacag gacagt acagtc cagtct agtctt gtcttg tcttgg cttggg ttgggg tgggga ggggac gggact ggactc gactcc actcca ctccag tccagt ccagtg cagtgg agtggc gtggca tggcac ggcact gcactg cactgg actgga ctggaa tggaat ggaatc gaatct aatctg atctgt tctgtt ctgttg tgttga gttgaa ttgaag tgaagt gaagtc aagtcg agtcga gtcgag tcgagg cgaggt gaggta aggtag ggtagg gtaggc taggcc aggccc ggccca gcccag cccagg ccaggg cagggg aggggt ggggtg gggtgc ggtgct gtgctg tgctgt gctgta ctgtaa tgtaac gtaacc taaccc aaccca acccaa cccaag ccaagt caagta aagtag agtagg gtaggc taggcg aggcgg ggcgga gcggac cggaca ggacat gacatg acatgt catgtc atgtca tgtcag gtcaga tcagag cagagg agaggc gaggca aggcat ggcatg gcatgg catggc atggcc tggcct ggcctt gccttt ccttta ctttaa tttaat ttaatc taatct aatctg atctgc tctgct ctgctt tgcttg gcttgt cttgta ttgtag tgtaga gtagag tagaga agagat gagatt agattg gattgt attgtc ttgtca tgtcat gtcata tcatag cataga atagaa tagaag agaagg gaaggg aagggg agggga ggggaa gggaac ggaaca gaacac aacacc acaccc caccca acccaa cccaag ccaagt caagtt aagttc agttct gttctc ttctcg tctcgt ctcgtg tcgtgg cgtgga gtggaa tggaac ggaacg gaacga aacgag acgagt cgagtg gagtgg agtggt gtggtg tggtga ggtgac gtgacg tgacga gacgag acgaga cgagat gagatt agattc gattcc attccc ttccct tccctt cccttg ccttgt cttgtc ttgtca tgtcat gtcatt tcattg cattga attgag ttgaga tgagaa gagaat agaatc gaatca aatcac atcaca tcacat cacatg acatgc catgcc atgcca tgccaa gccaat ccaatt caattt aatttc atttcc tttcct ttcctg tcctga cctgag ctgagg tgagga gaggac aggact ggactc gactct actctc ctctcc tctcca ctccaa tccaat ccaatg caatgc aatgcc atgcct tgcctc gcctct cctctg ctctgt tctgtt ctgttg tgttgc gttgcc ttgccg tgccgc gccgcc ccgccg cgccgc gccgcc ccgcct cgcctg gcctgc cctgca ctgcat tgcatc gcatct catctg atctga tctgaa ctgaaa tgaaac gaaact aaactt aacttc acttct cttctg ttctgc tctgcg ctgcgt tgcgtc gcgtct cgtctt gtcttg tcttgc cttgcg ttgcgt tgcgta gcgtag cgtagc gtagcc tagcca agccat gccatc ccatct catctc atctcc tctcca ctccaa tccaaa ccaaat caaatt aaatta aattac attact ttactg tactgc actgct ctgctt tgcttc gcttcc cttcct ttcctg tcctgc cctgcg ctgcgc tgcgct gcgctt cgcttc gcttct cttctc ttctca tctcac ctcacg tcacgg cacggt acggta cggtag ggtagc gtagcc tagcca agccac gccact ccactc cactcc actcca ctccag tccaga ccagag cagagg agagga gaggat aggatc ggatcc gatccg atccgc tccgcg ccgcgg cgcggg gcgggg cggggg gggggg gggggc ggggcc gggcca ggccaa gccaaa ccaaag caaaga aaagag aagagg agaggt gaggta aggtac ggtaca gtacat tacatt acattc cattct attctc ttctcc tctcct ctcctc tcctcc cctcct ctcctc tcctcg cctcgt ctcgtc tcgtcc cgtcct gtcctc tcctcc cctccc ctcccg tcccgc cccgcg ccgcgg cgcggg gcgggg cgggga ggggag gggaga ggagac gagact agactg gactgg actggg ctgggc tgggct gggctc ggctct gctctc ctctcc tctcca ctccag tccagg ccaggg cagggc agggct gggctg ggctgg gctggt ctggtg tggtgt ggtgtc gtgtct tgtctg gtctgc tctgcg ctgcgg tgcggc gcggct cggctg ggctgc gctgcg ctgcgg tgcggg gcgggg cggggg gggggt ggggtg gggtgg ggtggg gtgggg tggggt ggggtg gggtgg ggtggg gtgggg tggggc ggggca gggcat ggcatg gcatgt catgtc atgtct tgtctg gtctgt tctgtg ctgtga tgtgag gtgagg tgaggc gaggcc aggccc ggccca gcccat cccata ccatag catagg ataggt taggtg aggtgt ggtgtc gtgtca tgtcag gtcagc tcagca cagcag agcagg gcaggt caggtg aggtgc ggtgct gtgctt tgcttc gcttct cttctt ttcttg tcttgg cttggc ttggcc tggcct ggcctg gcctgg cctgga ctggaa tggaag ggaaga gaagac aagaca agacac gacacc acacct cacctc acctcg cctcgg ctcggg tcgggt cgggta gggtaa ggtaag gtaagg taaggt aaggtt aggttt ggtttc gtttcc tttcca ttccac tccacc ccacca caccaa accaaa ccaaag caaagg aaagga aaggag aggagg ggaggt gaggta aggtat ggtatc gtatct tatctc atctcc tctcct ctcctg tcctgg cctggg ctggga tgggaa gggaaa ggaaag gaaaga aaagag aagagt agagtc gagtct agtcta gtctat tctatc ctatca tatcag atcagc tcagct cagctc agctct gctctt ctcttg tcttgg cttggt ttggtc tggtct ggtctg gtctgc tctgct ctgctg tgctga gctgaa ctgaat tgaatt gaatta aattaa attaaa ttaaaa taaaag aaaagt aaagtg aagtga agtgag gtgaga tgagat gagata agataa gataag ataagg taaggg aagggt agggtt gggttc ggttct gttctt ttcttt tctttc ctttcc tttccc ttccct tccctc ccctcc cctcct ctcctc tcctcg cctcga ctcgat tcgatt cgatta gattat attatt ttattt tatttt attttg ttttgt tttgtc ttgtcg tgtcgt gtcgta tcgtag cgtagg gtaggt taggtc aggtca ggtcat gtcatg tcatgg catgga atggac tggact ggactc gactcg actcgc ctcgca tcgcat cgcatg gcatgg catggc atggct tggctg ggctgc gctgca ctgcat tgcatc gcatcc catcca atccac tccacc ccacct cacctt accttg ccttgt cttgtt ttgttg tgttga gttgac ttgacc tgacct gacctg acctga cctgac ctgacg tgacgg gacggc acggcc cggccc ggccct gccctt ccctta ccttag cttagc ttagca tagcaa agcaag gcaagg caaggc aaggcy aggcyg ggcygt gcygtt cygtta ygttaa gttaat ttaata taatag aatagg ataggg tagggc agggcc gggcca ggccaa gccaag ccaagg caaggt aaggta aggtac ggtact gtactt tactta acttat cttata ttatag tatagc atagcc tagcca agccag gccagg ccaggg caggga agggag gggaga ggagaa gagaac agaaca gaacaa aacaag acaaga caagac aagact agactc gactca actcat ctcatt tcattg cattgc attgca ttgcag tgcaga gcagag cagagt agagtg gagtgt agtgtt gtgttt tgttta gtttag tttagg ttaggt taggtc aggtca ggtcat gtcatc tcatcc catcct atcctc tcctcc cctcca ctccag tccaga ccagat cagatc agatcc gatcca atccag tccaga ccagac cagaca agacaa gacaaa acaaag caaagc aaagct aagctg agctgg gctgga ctggaa tggaag ggaagc gaagcc aagcca agccac gccacg ccacgg cacggc acggct cggctg ggctgc gctgct ctgctg tgctgt gctgtt ctgttg tgttgg gttggt ttggtt tggttt ggtttg gtttgt tttgtt ttgttt tgtttt gtttta ttttag tttagg ttaggg taggga agggac gggaca ggacag gacagc acagcg cagcgc agcgca gcgcat cgcatc gcatcc catcca atccag tccagg ccaggt caggtt aggttt ggtttt gttttg ttttga tttgag ttgagt tgagtt gagttg agttgc gttgca ttgcac tgcacc gcacca caccaa accaag ccaagt caagta aagtag agtagc gtagcc tagcca agccac gccact ccactg cactgc actgcc ctgccc tgcccg gcccgg cccgga ccggat cggata ggataa gataac ataaca taacat aacatt acattc cattca attcat ttcata tcataa cataac ataaca taacag aacagt acagtc cagtca agtcaa gtcaaa tcaaaa caaaac aaaacc aaaccg aaccgt accgtg ccgtga cgtgat gtgatg tgatga gatgag atgagc tgagcc gagcca agccac gccacg ccacgc cacgca acgcag cgcagg gcaggt caggtg aggtgc ggtgcg gtgcga tgcgat gcgata cgatat gatatt atattc tattcc attccc ttcccg tcccgc cccgcg ccgcgt cgcgta gcgtat cgtatg gtatgc tatgct atgctt tgctta gcttat cttatt ttatta tattag attaga ttagat tagatt agattg gattga attgat ttgatc tgatcc gatcca atccaa tccaaa ccaaaa caaaac aaaacc aaacca aaccac accacc ccacca caccag accagc ccagct cagctt agcttc gcttcg cttcgc ttcgcc tcgcca cgccaa gccaac ccaacc caaccc aacccc acccct cccctt ccctta ccttac cttacg ttacgt tacgtt acgttc cgttcc gttcct ttcctc tcctcg cctcgc ctcgca tcgcac cgcacg gcacga cacgac acgaca cgacag gacagg acagga caggac aggaca ggacaa gacaac acaaca caacag aacagc acagct cagctc agctct gctctg ctctgt tctgtc ctgtca tgtcac gtcacg tcacgg cacggc acggct cggcta ggctaa gctaaa ctaaac taaact aaactt aacttg acttgc cttgcg ttgcgc tgcgct gcgctc cgctct gctctg ctctgg tctgga ctggac tggaca ggacac gacact acactt cacttc acttca cttcac ttcacc tcacct cacctt accttt ccttta ctttat tttatt ttattt tatttc atttca tttcag ttcagc tcagcc cagcca agccag gccaga ccagac cagacc agacca gaccag accagt ccagtg cagtgg agtggt gtggtg tggtgt ggtgtc gtgtca tgtcaa gtcaag tcaagg caaggc aaggca aggcac ggcact gcactg cactgt actgtg ctgtga tgtgaa gtgaac tgaaca gaacag aacagg acaggt caggtc aggtca ggtcaa gtcaag tcaaga caagag aagaga agagac gagact agactc gactcc actcct ctcctc tcctct cctctt ctcttg tcttgt cttgtg ttgtgt tgtgtg gtgtgt tgtgtt gtgttt tgtttt gttttc ttttcc tttccc ttccct tccctt cccttg ccttgc cttgcc ttgcct tgcctc gcctcc cctcct ctcctg tcctgg cctggg ctgggg tggggg gggggg gggggc ggggcc gggccc ggcccc gcccct ccccta ccctat cctata ctatat tatatc atatcc tatccc atccct tccctg ccctgt cctgtg ctgtgt tgtgtc gtgtca tgtcag gtcagc tcagct cagctg agctgc gctgct ctgctg tgctga gctgat ctgatt tgattc gattca attcag ttcagc tcagca cagcag agcaga gcagat cagatg agatgc gatgcg atgcgg tgcggc gcggca cggcag ggcagg gcaggg cagggg agggga ggggac gggacg ggacga gacgag acgagg cgaggg gaggga agggag gggagg ggagga gaggag aggagc ggagct gagctg agctgg gctggg ctgggg tggggg ggggga ggggaa gggaac ggaact gaactt aacttc acttcg cttcgg ttcggc tcggca cggcac ggcact gcactt cacttt actttc ctttcc tttcca ttccag tccagc ccagct cagctg agctga gctgac ctgaca tgacat gacatg acatgg catggg atgggg tgggga ggggaa gggaac ggaact gaactt aacttt actttg ctttga tttgag ttgagc tgagct gagctg agctgc gctgct ctgctc tgctca gctcac ctcacc tcacca caccaa accaag ccaagg caaggc aaggcc aggcca ggccat gccatg ccatgg catgga atggaa tggaaa ggaaat gaaatc aaatcc aatccc atcccc tcccct cccctc ccctcg cctcgc ctcgct tcgcta cgctac gctacc ctaccg taccga accgaa ccgaaa cgaaac gaaact aaacta aactac actaca ctacaa tacaac acaact caactg aactgg actggt ctggtc tggtct ggtcta gtctat tctatt ctattc tattca attcat ttcata tcatag catagc atagca tagcac agcact gcactc cactct actctc ctctca tctcag ctcagg tcaggt caggta aggtaa ggtaag gtaagt taagtg aagtgg agtggg gtgggg tggggt ggggtt gggttt ggtttg gtttgt tttgtt ttgtta tgttag gttagc ttagcg tagcgc agcgcc gcgcct cgcctg gcctgt cctgta ctgtag tgtagg gtagga taggaa aggaac ggaacc gaacct aacctc acctcg cctcga ctcgaa tcgaac cgaaca gaacac aacacc acaccg caccgg accggt ccggtt cggttc ggttca gttcaa ttcaac tcaacc caaccg aaccgg accggt ccggta cggtat ggtata gtatag tatagc atagca tagcat agcatt gcattg cattgc attgcc ttgcca tgccat gccatg ccatgg catggc atggcc tggccc ggcccc gcccca ccccac cccact ccactg cactgg actgga ctggaa tggaaa ggaaaa gaaaaa aaaaat aaaatt aaattc aattct attctc ttctct tctctt ctctta tcttat cttatc ttatct tatctc atctcc tctccc ctccca tcccat cccatt ccattt cattta atttac tttact ttactt tactta acttat cttatt ttattt tatttc atttcc tttccc ttcccc tcccca ccccaa cccaaa ccaaat caaatc aaatca aatcat atcatg tcatgc catgcc atgcct tgcctg gcctga cctgag ctgagt tgagtt gagttt agtttt gtttta ttttac tttact ttactg tactgt actgtg ctgtga tgtgaa gtgaac tgaacc gaacct aaccta acctaa cctaaa ctaaaa taaaaa aaaaag aaaagg aaagga aaggaa aggaac ggaaca gaacat aacatt acattc cattct attctt ttcttt tctttc ctttcc tttcct ttcctc tcctcc cctcca ctccaa tccaaa ccaaag caaagg aaaggt aaggtt aggttc ggttcc gttcct ttcctt tcctta ccttat cttatg ttatgt tatgtt atgttc tgttcc gttcca ttccag tccagg ccaggg cagggt agggta gggtag ggtagt gtagtg tagtgc agtgct gtgctg tgctgt gctgtt ctgttc tgttcc gttccc ttccca tcccat cccatc ccatca catcaa atcaac tcaacc caacca aaccac accaca ccacag cacagt acagta cagtac agtacc gtaccc tacccg acccgt cccgta ccgtat cgtata gtatat tatata atatat tatata atatat tatatt atatta tattac attact ttactg tactgg actggt ctggta tggtaa ggtaat gtaata taataa aataag ataagt taagta aagtac agtaca gtacag tacagg acaggc caggcg aggcgt ggcgtt gcgttg cgttgg gttggt ttggtt tggttc ggttca gttcaa ttcaat tcaatt caattt aatttg atttgc tttgca ttgcac tgcaca gcacag cacaga acagaa cagaac agaacc gaacct aacctt accttt ccttta ctttac tttaca ttacat tacatt acattt catttt attttt tttttg ttttga tttgat ttgatc tgatca gatcaa atcaac tcaacc caaccc aacccc accccg ccccgc cccgca ccgcat cgcatg gcatgg catggc atggcc tggccg ggccga gccgac ccgacc cgaccc gaccca acccac cccacc ccaccc caccca acccaa cccaaa ccaaaa caaaat aaaatg aaatgg aatggc atggct tggctt ggcttt gcttta ctttag tttagc ttagca tagcag agcaga gcagac cagact agactc gactct actcta ctctac tctaca ctacaa tacaat acaatt caattt aatttt atttta ttttac tttact ttactg tactgg actggt ctggtc tggtca ggtcat gtcatc tcatct catctt atcttt tctttc ctttcc tttcct ttcctt tccttc ccttcc cttcct ttcctc tcctcc cctccc ctccca tcccac cccacc ccacca caccaa accaaa ccaaat caaatc aaatca aatcac atcacc tcacca caccat accatc ccatct catctt atctta tcttat cttatc ttatct tatcta atctac tctacc ctaccc taccca acccag cccagt ccagtc cagtca agtcat gtcatt tcattg cattga attgaa ttgaaa tgaaag gaaagg aaagga aaggaa aggaaa ggaaag gaaagt aaagtt aagttc agttcc gttccc ttccca tcccat cccatt ccatta cattag attagt ttagtc tagtcc agtcca gtccag tccagt ccagtt cagttt agtttc gtttcc tttcca ttccac tccaca ccacag cacagc acagcc cagcca agccat gccata ccataa cataaa ataaaa taaaat aaaatg aaatgg aatggc atggca tggcac ggcaca gcacag cacagc acagca cagcac agcacg gcacgg cacggg acgggc cgggca gggcaa ggcaat gcaatg caatgg aatggc atggcc tggcct ggcctc gcctcc cctcca ctccac tccacg ccacga cacgat acgatg cgatgc gatgct atgctt tgcttg gcttgt cttgtc ttgtct tgtctt gtcttg tcttgc cttgct ttgctg tgctgg gctggt ctggtg tggtgg ggtggt gtggtc tggtcg ggtcgc gtcgca tcgcag cgcagg gcaggt caggtc aggtct ggtctg gtctgt tctgta ctgtag tgtaga gtagaa tagaac agaacc gaacca aaccag accaga ccagat cagatg agatgg gatggc atggcg tggcgg ggcggt gcggtt cggttg ggttgc gttgca ttgcac tgcact gcactt cacttg acttgt cttgtt ttgttg tgttga gttgaa ttgaac tgaact gaactc aactcc actccc ctcccg tcccgc cccgcc ccgccg cgccgg gccggg ccgggc cgggcc gggccc ggccca gcccag cccagc ccagcg cagcga agcgaa gcgaac cgaact gaacta aactag actagg ctagga taggat aggatg ggatgt gatgtt atgttc tgttcg gttcgc ttcgct tcgctg cgctgc gctgcc ctgcca tgccaa gccaag ccaaga caagac aagacg agacgg gacggg acgggg cggggt ggggtc gggtcg ggtcgt gtcgta tcgtac cgtacc gtaccg taccga accgat ccgatt cgattc gattca attcac ttcacc tcacct cacctg acctgg cctgga ctggaa tggaaa ggaaaa gaaaag aaaagt aaagtt aagttg agttga gttgaa ttgaaa tgaaac gaaaca aaacac aacacc acacct cacctt accttg ccttgt cttgtt ttgttc tgttcc gttcct ttcctt tccttg ccttgt cttgtg ttgtga tgtgat gtgatg tgatgt gatgtc atgtcc tgtccc gtcccc tccccg ccccga cccgac ccgact cgactg gactgg actgga ctggaa tggaag ggaagc gaagct aagctt agcttg gcttgc cttgcc ttgcct tgccta gcctag cctagc ctagca tagcag agcagg gcaggt caggta aggtag ggtagc gtagcc tagcct agcctt gccttc ccttcg cttcgg ttcggc tcggcc cggccg ggccga gccgac ccgact cgactt gacttt actttg ctttgt tttgtc ttgtca tgtcag gtcagg tcagga caggag aggagc ggagca gagcat agcatt gcattt catttc atttcg tttcgg ttcggc tcggct cggctc ggctcg gctcgc ctcgcg tcgcgc cgcgcg gcgcgt cgcgtt gcgttc cgttct gttctc ttctcc tctcca ctccag tccagt ccagtg cagtgc agtgct gtgctg tgctgc gctgct ctgctc tgctct gctctg ctctgt tctgtt ctgttg tgttga gttgag ttgagc tgagct gagctc agctcg gctcgg ctcggt tcggtt cggttg ggttga gttgaa ttgaaa tgaaag gaaagc aaagct aagctg agctgc gctgct ctgctg tgctgc gctgcg ctgcga tgcgaa gcgaaa cgaaag gaaagg aaagga aaggat aggatt ggattc gattct attctt ttcttt tctttg ctttgt tttgtc ttgtct tgtctt gtcttc tcttcc cttcca ttccag tccagc ccagca cagcag agcagc gcagcc cagcca agccat gccatt ccattg cattgt attgtc ttgtct tgtctc gtctct tctctc ctctca tctcag ctcaga tcagaa cagaag agaagt gaagtt aagtta agttat gttatt ttattc tattcc attccg ttccgt tccgtt ccgttt cgtttt gttttc ttttcg tttcga ttcgac tcgact cgacta gactag actagc ctagcc tagcca agccag gccagt ccagtc cagtcc agtcca gtccac tccaca ccacac cacacc acaccc caccct accctc ccctcg cctcgc ctcgct tcgctg cgctgt gctgtc ctgtct tgtctt gtcttt tctttg ctttgt tttgtg ttgtga tgtgag gtgagt tgagtg gagtgg agtggt gtggtc tggtcc ggtcct gtcctg tcctgt cctgtt ctgtta tgttaa gttaag ttaaga taagaa aagaat agaata gaataa aataac ataaca taacag aacagg acaggt caggta aggtac ggtacc gtaccg taccgg accggg ccgggc cgggct gggctt ggcttc gcttcc cttccc ttccct tccctg ccctgg cctggt ctggtg tggtgg ggtggc gtggcg tggcgc ggcgca gcgcag cgcagt gcagtg cagtgg agtggt gtggtt tggttg ggttga gttgag ttgaga tgagag gagagt agagtc gagtcc agtccg gtccgc tccgcc ccgcct cgcctg gcctgc cctgcc ctgccg tgccga gccgat ccgatg cgatgc gatgca atgcag tgcagg gcaggg cagggg agggga ggggac gggaca ggacac gacacg acacgg cacggg acgggt cgggtt gggttc ggttcg gttcgt ttcgtg tcgtgc cgtgcc gtgccc tgcccc gccccg ccccgg cccggt ccggtc cggtcc ggtccg gtccgg tccggg ccggga cgggag gggagg ggagga gaggat aggatc ggatcc gatccc atccca tcccac cccaca ccacat cacatg acatgc catgcc atgccg tgccgt gccgtg ccgtgg cgtgga gtggag tggagc ggagcg gagcgg agcggc gcggct cggctg ggctgg gctggg ctgggc tgggcc gggccc ggcccg gcccgt cccgtg ccgtga cgtgag gtgagc tgagcc gagcca agccat gccatg ccatgg catggc atggcc tggccg ggccgc gccgct ccgctg cgctga gctgag ctgagc tgagcc gagcct agcctg gcctgc cctgca ctgcac tgcacg gcacgt cacgtc acgtct cgtctg gtctgg tctgga ctggag tggagc ggagcc gagcct agcctg gcctgt cctgtg ctgtgc tgtgct gtgctc tgctcc gctccg ctccgc tccgca ccgcaa cgcaac gcaacg caacgg aacggg acggga cgggag gggaga ggagag gagagg agaggc gaggcc aggccg ggccgc gccgcg ccgcgg cgcggc gcggca cggcag ggcagt gcagtg cagtgg agtggg gtggga tgggag gggagg ggaggc gaggcc aggccc ggcccg gcccgt cccgtg ccgtgt cgtgta gtgtac tgtacc gtaccg taccgc accgca ccgcaa cgcaaa gcaaaa caaaaa aaaaaa aaaaaa aaaaaa aaaaaa aaaaaa aaaaaa aaaaaa aaaaaa aaaaaa aaaaaa aaaaaa aaaaaa aaaaag aaaaga aaagaa aagaat agaata gaataa aataac ataacc taaccg aaccgg accggt ccggta cggtac ggtacc gtacct tacctt accttg ccttgt cttgtt ttgtta tgttac gttact ttacta tactag actagg ctaggg tagggc agggcc gggcca ggccac gccaca ccacag cacagg acaggg cagggc agggct gggctc ggctct gctctg ctctgg tctggc ctggct tggctg ggctgc gctgca ctgcag tgcaga gcagat cagatc agatct gatctt atcttt tctttc ctttct tttctt ttcttc tcttcc cttcca ttccac tccact ccactg cactga actgag ctgagc tgagcg gagcga agcgat gcgatc cgatca gatcaa atcaaa tcaaag caaagc aaagct aagctg agctgg gctggg ctgggc tgggcg gggcgg ggcggc gcggct cggctc ggctct gctctc ctctcc tctccg ctccgt tccgta ccgtat cgtatg gtatgg tatgga atggag tggagg ggaggg gagggt agggtg gggtgg ggtggc gtggct tggctg ggctgg gctgga ctggag tggaga ggagaa gagaaa agaaaa gaaaag aaaagg aaaggc aaggct aggctg ggctgg gctgga ctggaa tggaat ggaatg gaatgt aatgtt atgtta tgttag gttagt ttagtc tagtcc agtcca gtccat tccatg ccatgc catgcc atgccc tgccca gcccag cccagt ccagtg cagtga agtgag gtgagc tgagcc gagcct agcctc gcctct cctctg ctctgg tctgga ctggat tggatg ggatgc gatgct atgctg tgctgc gctgct ctgctt tgctta gcttag cttagt ttagtg tagtga agtgag gtgagg tgagga gaggag aggaga ggagat gagata agataa gataaa ataaaa taaaag aaaaga aaagac aagaca agacag gacagt acagta cagtat agtata gtatag tatagc atagct tagctg agctgg gctggc ctggca tggcat ggcatc gcatca catcaa atcaac tcaaca caacag aacaga acagat cagatt agattt gattta atttag tttagt ttagtc tagtca agtcag gtcagc tcagcc cagcct agcctg gcctgc cctgcc ctgcct tgcctt gccttg ccttgt cttgtt ttgttt tgtttt gttttg ttttgt tttgtt ttgttt tgtttc gtttca tttcag ttcagt tcagtc cagtca agtcag gtcagt tcagtt cagtta agttac gttacc ttaccc taccca acccag cccagt ccagtc cagtcc agtcct gtcctc tcctca cctcag ctcagt tcagtg cagtgt agtgtt gtgttc tgttcg gttcgg ttcggg tcgggg cggggt ggggtt gggtta ggttat gttata ttatac tatacc ataccc taccct accctc ccctcc cctcca ctccaa tccaag ccaagt caagtc aagtca agtcat gtcatc tcatca catcac atcacg tcacgc cacgct acgctt cgcttg gcttga cttgat ttgata tgataa gataac ataact taactt aacttc acttcc cttcct ttcctt tcctta ccttaa cttaat ttaatg taatgt aatgtg atgtgc tgtgct gtgctt tgcttg gcttga cttgat ttgata tgatac gatacg atacgt tacgtc acgtca cgtcag gtcagc tcagcc cagcca agccaa gccaag ccaagc caagca aagcac agcaca gcacaa cacaaa acaaag caaagg aaagga aaggac aggact ggactt gactta acttaa cttaac ttaact taactg aactgt actgtc ctgtcc tgtccc gtcccc tcccct cccctg ccctgc cctgct ctgctc tgctct gctcta ctctaa tctaac ctaaca taacag aacaga acagac cagaca agacaa gacaat acaatg caatgc aatgca atgcag tgcaga gcagat cagatg agatga gatgaa atgaaa tgaaag gaaagt aaagta aagtac agtact gtactc tactca actcac ctcact tcactg cactgc actgcc ctgccc tgccct gccctc ccctct cctctt ctcttc tcttct cttcta ttctag tctagt ctagtt tagtta agttaa gttaac ttaaca taacag aacaga acagaa cagaag agaagg gaagga aaggag aggaga ggagag gagaga agagat gagatg agatgt gatgtc atgtca tgtcag gtcagg tcaggg cagggc agggct gggcta ggctaa gctaat ctaatc taatct aatctt atctta tcttag cttaga ttagag tagagc agagct gagctc agctcc gctccg ctccgt tccgtg ccgtgt cgtgtt gtgttc tgttca gttcat ttcatg tcatgg catggg atgggg tgggga ggggaa gggaat ggaatg gaatga aatgac atgact tgactt gacttg acttgg cttggt ttggtc tggtca ggtcaa gtcaaa tcaaaa caaaat aaaatc aaatcc aatccc atcccc tcccca ccccag cccaga ccagat cagata agataa gataac ataact taactg aactgg actggg ctgggt tgggtt gggttc ggttct gttctc ttctca tctcat ctcatg tcatgg catggt atggtc tggtca ggtcaa gtcaaa tcaaaa caaaag aaaagg aaaggc aaggcc aggccc ggcccc gccccc ccccct cccctt cccttc ccttct cttctc ttctcc tctccg ctccgg tccggc ccggca cggcaa ggcaaa gcaaaa caaaag aaaaga aaagag aagaga agagaa gagaac agaact gaactt aacttt actttc ctttcc tttcct ttcctt tccttc ccttct cttctc ttctct tctctg ctctgg tctggg ctgggg\n"
          ]
        }
      ],
      "source": [
        "print(capensis_texts[2])"
      ]
    },
    {
      "cell_type": "code",
      "execution_count": null,
      "metadata": {
        "colab": {
          "base_uri": "https://localhost:8080/"
        },
        "id": "A38X65OOXZ5q",
        "outputId": "3f94e0b2-7076-46c6-ef1b-514e14a29369"
      },
      "outputs": [
        {
          "output_type": "execute_result",
          "data": {
            "text/plain": [
              "array([1, 1, 1, 1, 1, 1, 1, 1, 1, 1, 1, 1, 1, 1, 1, 1, 1, 1, 1, 1, 1, 1,\n",
              "       1, 1, 1, 1, 1, 1, 1, 1, 1, 1, 1, 1, 1, 1, 1, 1, 1, 1, 1, 1, 1, 1,\n",
              "       1, 1, 1, 1, 1, 1])"
            ]
          },
          "metadata": {},
          "execution_count": 13
        }
      ],
      "source": [
        "y_data"
      ]
    },
    {
      "cell_type": "code",
      "source": [
        "dugon_texts = list(dugon['words'])\n",
        "for item in range(len(dugon_texts)):\n",
        "    dugon_texts[item] = ' '.join(dugon_texts[item])\n",
        "y_dugon = dugon.iloc[:, 0].values"
      ],
      "metadata": {
        "id": "-iNUq6yC_tdT"
      },
      "execution_count": null,
      "outputs": []
    },
    {
      "cell_type": "code",
      "source": [
        "y_dugon"
      ],
      "metadata": {
        "colab": {
          "base_uri": "https://localhost:8080/"
        },
        "id": "kc3_XCYj_05B",
        "outputId": "77fbd86b-360e-4419-f53d-f091fee0f70b"
      },
      "execution_count": null,
      "outputs": [
        {
          "output_type": "execute_result",
          "data": {
            "text/plain": [
              "array([2, 2, 2, 2, 2, 2, 2, 2, 2, 2, 2, 2, 2, 2, 2, 2, 2, 2, 2, 2, 2, 2,\n",
              "       2, 2, 2, 2, 2, 2, 2, 2, 2, 2, 2, 2, 2, 2, 2, 2, 2, 2, 2, 2, 2, 2,\n",
              "       2, 2, 2, 2, 2, 2])"
            ]
          },
          "metadata": {},
          "execution_count": 17
        }
      ]
    },
    {
      "cell_type": "code",
      "execution_count": null,
      "metadata": {
        "id": "GI23OcZnXZ5r"
      },
      "outputs": [],
      "source": [
        "brevirostris_texts = list(brevirostris['words'])\n",
        "for item in range(len(brevirostris_texts)):\n",
        "    brevirostris_texts[item] = ' '.join(brevirostris_texts[item])\n",
        "y_brevirostris = brevirostris.iloc[:, 0].values   "
      ]
    },
    {
      "cell_type": "code",
      "source": [
        "y_brevirostris"
      ],
      "metadata": {
        "colab": {
          "base_uri": "https://localhost:8080/"
        },
        "id": "lVDO0GL3AL7y",
        "outputId": "c11920e7-f9c2-4aac-a319-ec69fb4b1a2f"
      },
      "execution_count": null,
      "outputs": [
        {
          "output_type": "execute_result",
          "data": {
            "text/plain": [
              "array([3, 3, 3, 3, 3, 3, 3, 3, 3, 3, 3, 3, 3, 3, 3, 3, 3, 3, 3, 3, 3, 3,\n",
              "       3, 3, 3, 3, 3, 3, 3, 3, 3, 3, 3, 3, 3, 3, 3, 3, 3, 3, 3, 3, 3, 3,\n",
              "       3, 3, 3, 3, 3, 3])"
            ]
          },
          "metadata": {},
          "execution_count": 23
        }
      ]
    },
    {
      "cell_type": "markdown",
      "metadata": {
        "id": "kZmhmE4hXZ5r"
      },
      "source": [
        "## Terapkan BAG of WORDS menggunakan CountVectorizer menggunakan NLP"
      ]
    },
    {
      "cell_type": "code",
      "execution_count": null,
      "metadata": {
        "id": "q018c0PvXZ5r"
      },
      "outputs": [],
      "source": [
        "# Membuat model Bag of Words menggunakan CountVectorizer()\n",
        "# Hal ini sama dengan penghitungan k-mer\n",
        "# Ukuran n-gram dari 4 sebelumnya ditentukan oleh pengujian\n",
        "from sklearn.feature_extraction.text import CountVectorizer\n",
        "cv = CountVectorizer(ngram_range=(4,4))\n",
        "X = cv.fit_transform(capensis_texts)\n",
        "X_dugon = cv.transform(dugon_texts)\n",
        "X_brevirostris = cv.transform(brevirostris_texts)"
      ]
    },
    {
      "cell_type": "code",
      "execution_count": null,
      "metadata": {
        "colab": {
          "base_uri": "https://localhost:8080/"
        },
        "id": "IXn9MjlQXZ5s",
        "outputId": "4c7952c7-b4c1-4421-d04e-1c058db86214"
      },
      "outputs": [
        {
          "output_type": "stream",
          "name": "stdout",
          "text": [
            "(50, 47707)\n",
            "(50, 47707)\n",
            "(50, 47707)\n"
          ]
        }
      ],
      "source": [
        "print(X.shape)\n",
        "print(X_dugon.shape)\n",
        "print(X_brevirostris.shape)"
      ]
    },
    {
      "cell_type": "markdown",
      "metadata": {
        "id": "bS4NuTlyXZ5s"
      },
      "source": [
        "### Dapat dilihat bahwa dataset yang digunakan relatif seimbang."
      ]
    },
    {
      "cell_type": "code",
      "execution_count": null,
      "metadata": {
        "colab": {
          "base_uri": "https://localhost:8080/",
          "height": 279
        },
        "id": "AItPPdvOXZ5s",
        "outputId": "6e7c1492-3612-4a8a-e8a5-d945fb742ac7"
      },
      "outputs": [
        {
          "output_type": "execute_result",
          "data": {
            "text/plain": [
              "<matplotlib.axes._subplots.AxesSubplot at 0x7f99e33fb850>"
            ]
          },
          "metadata": {},
          "execution_count": 26
        },
        {
          "output_type": "display_data",
          "data": {
            "text/plain": [
              "<Figure size 432x288 with 1 Axes>"
            ],
            "image/png": "[encoded data removed]"
          },
          "metadata": {
            "needs_background": "light"
          }
        }
      ],
      "source": [
        "capensis['class'].value_counts().sort_index().plot.bar()"
      ]
    },
    {
      "cell_type": "code",
      "source": [
        "dugon['class'].value_counts().sort_index().plot.bar()"
      ],
      "metadata": {
        "colab": {
          "base_uri": "https://localhost:8080/",
          "height": 279
        },
        "id": "UooygKMMAoBv",
        "outputId": "70fc9b26-1bd9-4149-fe04-3e6d4cdbf7f8"
      },
      "execution_count": null,
      "outputs": [
        {
          "output_type": "execute_result",
          "data": {
            "text/plain": [
              "<matplotlib.axes._subplots.AxesSubplot at 0x7f99d40225d0>"
            ]
          },
          "metadata": {},
          "execution_count": 28
        },
        {
          "output_type": "display_data",
          "data": {
            "text/plain": [
              "<Figure size 432x288 with 1 Axes>"
            ],
            "image/png": "[encoded data removed]"
          },
          "metadata": {
            "needs_background": "light"
          }
        }
      ]
    },
    {
      "cell_type": "code",
      "source": [
        "brevirostris['class'].value_counts().sort_index().plot.bar()"
      ],
      "metadata": {
        "colab": {
          "base_uri": "https://localhost:8080/",
          "height": 279
        },
        "id": "DgZuNwWOAoVJ",
        "outputId": "6f3be168-49af-4e70-a607-a5f154c95ed1"
      },
      "execution_count": null,
      "outputs": [
        {
          "output_type": "execute_result",
          "data": {
            "text/plain": [
              "<matplotlib.axes._subplots.AxesSubplot at 0x7f99d413b290>"
            ]
          },
          "metadata": {},
          "execution_count": 27
        },
        {
          "output_type": "display_data",
          "data": {
            "text/plain": [
              "<Figure size 432x288 with 1 Axes>"
            ],
            "image/png": "[encoded data removed]"
          },
          "metadata": {
            "needs_background": "light"
          }
        }
      ]
    },
    {
      "cell_type": "markdown",
      "source": [
        "### Split dataset ke dalam data training dan data uji"
      ],
      "metadata": {
        "id": "FWdu2cm6SxJZ"
      }
    },
    {
      "cell_type": "code",
      "execution_count": null,
      "metadata": {
        "id": "GUAX62tSXZ5t"
      },
      "outputs": [],
      "source": [
        "from sklearn.model_selection import train_test_split\n",
        "X_train, X_test, y_train, y_test = train_test_split(X, \n",
        "                                                    y_data, \n",
        "                                                    test_size = 0.20, \n",
        "                                                    random_state=42)"
      ]
    },
    {
      "cell_type": "code",
      "execution_count": null,
      "metadata": {
        "colab": {
          "base_uri": "https://localhost:8080/"
        },
        "id": "mT0J7IeUXZ5t",
        "outputId": "f203a5c6-e49e-4573-fb2b-2d3284c73873"
      },
      "outputs": [
        {
          "output_type": "stream",
          "name": "stdout",
          "text": [
            "(40, 47707)\n",
            "(10, 47707)\n"
          ]
        }
      ],
      "source": [
        "print(X_train.shape)\n",
        "print(X_test.shape)"
      ]
    },
    {
      "cell_type": "markdown",
      "metadata": {
        "id": "6rkDtxOGXZ5t"
      },
      "source": [
        "### Pengklasifikasi dilakukan dengan menggunakan multinomial naive Bayes. Parameter yang cocok digunkana adalah ngram 4 dan model alfa 0,1."
      ]
    },
    {
      "cell_type": "markdown",
      "source": [
        "Support Vektor Machine\n",
        "\n",
        "Random Forest\n",
        "\n",
        "Decision Tree\n",
        "\n",
        "Naïve Bayes\n",
        "\n",
        "Artificial Neural Network\n",
        "\n",
        "K-NN\t\n"
      ],
      "metadata": {
        "id": "cqw6NM7YBn0b"
      }
    },
    {
      "cell_type": "code",
      "execution_count": null,
      "metadata": {
        "id": "vKoY6lr2XZ5u"
      },
      "outputs": [],
      "source": [
        "### Aplikasikan beberapa algoritma yang akan digunakan ###\n",
        "from sklearn import svm\n",
        "from sklearn.ensemble import RandomForestClassifier\n",
        "from sklearn.naive_bayes import MultinomialNB\n",
        "from sklearn.tree import DecisionTreeClassifier\n",
        "from sklearn.neural_network import MLPClassifier\n",
        "from sklearn.neighbors import KNeighborsClassifier"
      ]
    },
    {
      "cell_type": "code",
      "source": [
        "# SVM\n",
        "# svm_model = svm.SVC()\n",
        "# svm_model.fit(X_train, y_train)\n",
        "\n",
        "# RF\n",
        "rf_model = RandomForestClassifier(max_depth=2, random_state=0)\n",
        "rf_model.fit(X_train, y_train)\n",
        "\n",
        "# NB\n",
        "nb_model = MultinomialNB(alpha=0.1)\n",
        "nb_model.fit(X_train, y_train)\n",
        "\n",
        "# DT\n",
        "dt_model = DecisionTreeClassifier(random_state=0, max_depth=2)\n",
        "dt_model.fit(X_train, y_train)\n",
        "\n",
        "# ann\n",
        "ann_model = MLPClassifier(solver='lbfgs', alpha=1e-5,\n",
        "                    hidden_layer_sizes=(5, 2), random_state=1)\n",
        "ann_model.fit(X_train, y_train)\n",
        "\n",
        "# KNN\n",
        "knn_model = KNeighborsClassifier(n_neighbors=3)\n",
        "knn_model.fit(X_train, y_train)"
      ],
      "metadata": {
        "colab": {
          "base_uri": "https://localhost:8080/"
        },
        "id": "qvjtUADoDlNo",
        "outputId": "6744e398-6f14-4c01-bfab-cfd36d9c6ddf"
      },
      "execution_count": null,
      "outputs": [
        {
          "output_type": "execute_result",
          "data": {
            "text/plain": [
              "KNeighborsClassifier(n_neighbors=3)"
            ]
          },
          "metadata": {},
          "execution_count": 38
        }
      ]
    },
    {
      "cell_type": "code",
      "execution_count": null,
      "metadata": {
        "id": "Pj24xmixXZ5u"
      },
      "outputs": [],
      "source": [
        "y_pred = knn_model.predict(X_test)"
      ]
    },
    {
      "cell_type": "markdown",
      "metadata": {
        "id": "odTXlImwXZ5v"
      },
      "source": [
        "### Pengujian akurasi model menggunakan beberapa metrik kinerja model seperti confusion matrix, accuracy, precision, recall dan f1 score. Hasil perolahan skor akurasi menunjukkan bahwa model dapat mempelajari data dengan baik."
      ]
    },
    {
      "cell_type": "code",
      "execution_count": null,
      "metadata": {
        "colab": {
          "base_uri": "https://localhost:8080/"
        },
        "id": "BBAlDJfaXZ5v",
        "outputId": "ef5074b6-dfb2-498d-8ead-2837978bb946"
      },
      "outputs": [
        {
          "output_type": "stream",
          "name": "stdout",
          "text": [
            "Confusion matrix\n",
            "\n",
            "Predicted   1\n",
            "Actual       \n",
            "1          10\n",
            "accuracy = 1.000 \n",
            "precision = 1.000 \n",
            "recall = 1.000 \n",
            "f1 = 1.000\n"
          ]
        }
      ],
      "source": [
        "from sklearn.metrics import accuracy_score, f1_score, precision_score, recall_score\n",
        "print(\"Confusion matrix\\n\")\n",
        "print(pd.crosstab(pd.Series(y_test, name='Actual'), pd.Series(y_pred, name='Predicted')))\n",
        "def get_metrics(y_test, y_predicted):\n",
        "    accuracy = accuracy_score(y_test, y_predicted)\n",
        "    precision = precision_score(y_test, y_predicted, average='weighted')\n",
        "    recall = recall_score(y_test, y_predicted, average='weighted')\n",
        "    f1 = f1_score(y_test, y_predicted, average='weighted')\n",
        "    return accuracy, precision, recall, f1\n",
        "accuracy, precision, recall, f1 = get_metrics(y_test, y_pred)\n",
        "print(\"accuracy = %.3f \\nprecision = %.3f \\nrecall = %.3f \\nf1 = %.3f\" % (accuracy, precision, recall, f1))"
      ]
    },
    {
      "cell_type": "code",
      "execution_count": null,
      "metadata": {
        "id": "5Qfifx3eXZ5v"
      },
      "outputs": [],
      "source": [
        ""
      ]
    }
  ],
  "metadata": {
    "kernelspec": {
      "display_name": "Python 3",
      "language": "python",
      "name": "python3"
    },
    "language_info": {
      "codemirror_mode": {
        "name": "ipython",
        "version": 3
      },
      "file_extension": ".py",
      "mimetype": "text/x-python",
      "name": "python",
      "nbconvert_exporter": "python",
      "pygments_lexer": "ipython3",
      "version": "3.6.7"
    },
    "colab": {
      "name": "UAS_Biosis_Lukman.ipynb",
      "provenance": [],
      "collapsed_sections": [],
      "include_colab_link": true
    }
  },
  "nbformat": 4,
  "nbformat_minor": 0
}